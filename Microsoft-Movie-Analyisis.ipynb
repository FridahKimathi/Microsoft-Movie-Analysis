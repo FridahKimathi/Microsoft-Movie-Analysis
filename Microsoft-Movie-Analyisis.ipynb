{
 "cells": [
  {
   "cell_type": "markdown",
   "metadata": {},
   "source": [
    "# Microsoft Movie Analysis\n",
    "\n",
    "##### Author: Fridah Kimathi"
   ]
  },
  {
   "cell_type": "markdown",
   "metadata": {},
   "source": [
    "### **Overview**\n",
    "\n",
    "Microsoft sees all the big companies creating original video content and they want to get in on the fun. They have decided to create a new movie studio, but they don’t know anything about creating movies. Exploratory Data Analysis was used in this project to provide insights on which movie genres are performing well on box office. Recommendations were then made \n",
    "to help guide Microsoft's new movie studio decide which movies they should produce."
   ]
  },
  {
   "cell_type": "markdown",
   "metadata": {},
   "source": [
    "#### **Importing all the required Python Libraries**"
   ]
  },
  {
   "cell_type": "code",
   "execution_count": 1,
   "metadata": {},
   "outputs": [],
   "source": [
    "#For data wrangling and manipulation\n",
    "import pandas as pd\n",
    "\n",
    "# numpy for numerical operation and arrays\n",
    "import numpy as np \n",
    "\n",
    "# seaborn and matplotlib for data visualization\n",
    "import matplotlib.pyplot as plt\n",
    "import seaborn as sns\n",
    "%matplotlib inline"
   ]
  },
  {
   "cell_type": "markdown",
   "metadata": {},
   "source": [
    "#### **Loading the data**\n",
    "> <ul type='square'> <li>Created a function to load data into the notebook . </li> <ul>"
   ]
  },
  {
   "cell_type": "code",
   "execution_count": 2,
   "metadata": {},
   "outputs": [],
   "source": [
    "def load_data(path):\n",
    "\n",
    "    \"\"\"A function to load data\"\"\"\n",
    "    \n",
    "    df = pd.read_csv(path, compression='gzip')\n",
    "    return df"
   ]
  },
  {
   "cell_type": "code",
   "execution_count": 3,
   "metadata": {},
   "outputs": [],
   "source": [
    "movie_gross = load_data('zippedData/bom.movie_gross.csv.gz')"
   ]
  },
  {
   "cell_type": "code",
   "execution_count": 4,
   "metadata": {},
   "outputs": [],
   "source": [
    "ratings = load_data('zippedData/imdb.title.ratings.csv.gz')"
   ]
  },
  {
   "cell_type": "code",
   "execution_count": 5,
   "metadata": {},
   "outputs": [],
   "source": [
    "title_basics = load_data('zippedData/imdb.title.basics.csv.gz')"
   ]
  },
  {
   "cell_type": "markdown",
   "metadata": {},
   "source": [
    "## **Data Understanding**"
   ]
  },
  {
   "cell_type": "markdown",
   "metadata": {},
   "source": [
    "#### **1. Understanding *movie_gross* dataframe**"
   ]
  },
  {
   "cell_type": "code",
   "execution_count": 6,
   "metadata": {},
   "outputs": [
    {
     "data": {
      "text/html": [
       "<div>\n",
       "<style scoped>\n",
       "    .dataframe tbody tr th:only-of-type {\n",
       "        vertical-align: middle;\n",
       "    }\n",
       "\n",
       "    .dataframe tbody tr th {\n",
       "        vertical-align: top;\n",
       "    }\n",
       "\n",
       "    .dataframe thead th {\n",
       "        text-align: right;\n",
       "    }\n",
       "</style>\n",
       "<table border=\"1\" class=\"dataframe\">\n",
       "  <thead>\n",
       "    <tr style=\"text-align: right;\">\n",
       "      <th></th>\n",
       "      <th>title</th>\n",
       "      <th>studio</th>\n",
       "      <th>domestic_gross</th>\n",
       "      <th>foreign_gross</th>\n",
       "      <th>year</th>\n",
       "    </tr>\n",
       "  </thead>\n",
       "  <tbody>\n",
       "    <tr>\n",
       "      <th>0</th>\n",
       "      <td>Toy Story 3</td>\n",
       "      <td>BV</td>\n",
       "      <td>415000000.0</td>\n",
       "      <td>652000000</td>\n",
       "      <td>2010</td>\n",
       "    </tr>\n",
       "    <tr>\n",
       "      <th>1</th>\n",
       "      <td>Alice in Wonderland (2010)</td>\n",
       "      <td>BV</td>\n",
       "      <td>334200000.0</td>\n",
       "      <td>691300000</td>\n",
       "      <td>2010</td>\n",
       "    </tr>\n",
       "    <tr>\n",
       "      <th>2</th>\n",
       "      <td>Harry Potter and the Deathly Hallows Part 1</td>\n",
       "      <td>WB</td>\n",
       "      <td>296000000.0</td>\n",
       "      <td>664300000</td>\n",
       "      <td>2010</td>\n",
       "    </tr>\n",
       "    <tr>\n",
       "      <th>3</th>\n",
       "      <td>Inception</td>\n",
       "      <td>WB</td>\n",
       "      <td>292600000.0</td>\n",
       "      <td>535700000</td>\n",
       "      <td>2010</td>\n",
       "    </tr>\n",
       "    <tr>\n",
       "      <th>4</th>\n",
       "      <td>Shrek Forever After</td>\n",
       "      <td>P/DW</td>\n",
       "      <td>238700000.0</td>\n",
       "      <td>513900000</td>\n",
       "      <td>2010</td>\n",
       "    </tr>\n",
       "  </tbody>\n",
       "</table>\n",
       "</div>"
      ],
      "text/plain": [
       "                                         title studio  domestic_gross  \\\n",
       "0                                  Toy Story 3     BV     415000000.0   \n",
       "1                   Alice in Wonderland (2010)     BV     334200000.0   \n",
       "2  Harry Potter and the Deathly Hallows Part 1     WB     296000000.0   \n",
       "3                                    Inception     WB     292600000.0   \n",
       "4                          Shrek Forever After   P/DW     238700000.0   \n",
       "\n",
       "  foreign_gross  year  \n",
       "0     652000000  2010  \n",
       "1     691300000  2010  \n",
       "2     664300000  2010  \n",
       "3     535700000  2010  \n",
       "4     513900000  2010  "
      ]
     },
     "execution_count": 6,
     "metadata": {},
     "output_type": "execute_result"
    }
   ],
   "source": [
    "# Previewing the first 5 rows\n",
    "movie_gross.head()"
   ]
  },
  {
   "cell_type": "code",
   "execution_count": 7,
   "metadata": {},
   "outputs": [
    {
     "name": "stdout",
     "output_type": "stream",
     "text": [
      "<class 'pandas.core.frame.DataFrame'>\n",
      "RangeIndex: 3387 entries, 0 to 3386\n",
      "Data columns (total 5 columns):\n",
      " #   Column          Non-Null Count  Dtype  \n",
      "---  ------          --------------  -----  \n",
      " 0   title           3387 non-null   object \n",
      " 1   studio          3382 non-null   object \n",
      " 2   domestic_gross  3359 non-null   float64\n",
      " 3   foreign_gross   2037 non-null   object \n",
      " 4   year            3387 non-null   int64  \n",
      "dtypes: float64(1), int64(1), object(3)\n",
      "memory usage: 132.4+ KB\n"
     ]
    }
   ],
   "source": [
    "# Getting a concise summary of the dataframe\n",
    "movie_gross.info()"
   ]
  },
  {
   "cell_type": "markdown",
   "metadata": {},
   "source": [
    "##### **2. Understanding *title_basics* dataframe**"
   ]
  },
  {
   "cell_type": "code",
   "execution_count": 8,
   "metadata": {},
   "outputs": [
    {
     "data": {
      "text/html": [
       "<div>\n",
       "<style scoped>\n",
       "    .dataframe tbody tr th:only-of-type {\n",
       "        vertical-align: middle;\n",
       "    }\n",
       "\n",
       "    .dataframe tbody tr th {\n",
       "        vertical-align: top;\n",
       "    }\n",
       "\n",
       "    .dataframe thead th {\n",
       "        text-align: right;\n",
       "    }\n",
       "</style>\n",
       "<table border=\"1\" class=\"dataframe\">\n",
       "  <thead>\n",
       "    <tr style=\"text-align: right;\">\n",
       "      <th></th>\n",
       "      <th>tconst</th>\n",
       "      <th>primary_title</th>\n",
       "      <th>original_title</th>\n",
       "      <th>start_year</th>\n",
       "      <th>runtime_minutes</th>\n",
       "      <th>genres</th>\n",
       "    </tr>\n",
       "  </thead>\n",
       "  <tbody>\n",
       "    <tr>\n",
       "      <th>129979</th>\n",
       "      <td>tt8034014</td>\n",
       "      <td>100 Milioni di bracciate</td>\n",
       "      <td>100 Milioni di bracciate</td>\n",
       "      <td>2017</td>\n",
       "      <td>NaN</td>\n",
       "      <td>Biography</td>\n",
       "    </tr>\n",
       "    <tr>\n",
       "      <th>144392</th>\n",
       "      <td>tt9660588</td>\n",
       "      <td>3. Elma</td>\n",
       "      <td>3. Elma</td>\n",
       "      <td>2014</td>\n",
       "      <td>65.0</td>\n",
       "      <td>Drama</td>\n",
       "    </tr>\n",
       "    <tr>\n",
       "      <th>145118</th>\n",
       "      <td>tt9773302</td>\n",
       "      <td>3. Elma</td>\n",
       "      <td>3. Elma</td>\n",
       "      <td>2014</td>\n",
       "      <td>65.0</td>\n",
       "      <td>Drama</td>\n",
       "    </tr>\n",
       "    <tr>\n",
       "      <th>105408</th>\n",
       "      <td>tt6160528</td>\n",
       "      <td>88</td>\n",
       "      <td>88</td>\n",
       "      <td>2016</td>\n",
       "      <td>103.0</td>\n",
       "      <td>Documentary</td>\n",
       "    </tr>\n",
       "    <tr>\n",
       "      <th>114899</th>\n",
       "      <td>tt6804666</td>\n",
       "      <td>8:30</td>\n",
       "      <td>8:30</td>\n",
       "      <td>2017</td>\n",
       "      <td>70.0</td>\n",
       "      <td>Mystery</td>\n",
       "    </tr>\n",
       "    <tr>\n",
       "      <th>...</th>\n",
       "      <td>...</td>\n",
       "      <td>...</td>\n",
       "      <td>...</td>\n",
       "      <td>...</td>\n",
       "      <td>...</td>\n",
       "      <td>...</td>\n",
       "    </tr>\n",
       "    <tr>\n",
       "      <th>66992</th>\n",
       "      <td>tt3815128</td>\n",
       "      <td>Ângelo de Sousa - Tudo o Que Sou Capaz</td>\n",
       "      <td>Ângelo de Sousa - Tudo o Que Sou Capaz</td>\n",
       "      <td>2010</td>\n",
       "      <td>60.0</td>\n",
       "      <td>Biography,Documentary</td>\n",
       "    </tr>\n",
       "    <tr>\n",
       "      <th>66993</th>\n",
       "      <td>tt3815130</td>\n",
       "      <td>Ângelo de Sousa - Tudo o Que Sou Capaz</td>\n",
       "      <td>Ângelo de Sousa - Tudo o Que Sou Capaz</td>\n",
       "      <td>2010</td>\n",
       "      <td>60.0</td>\n",
       "      <td>Biography,Documentary</td>\n",
       "    </tr>\n",
       "    <tr>\n",
       "      <th>66994</th>\n",
       "      <td>tt3815132</td>\n",
       "      <td>Ângelo de Sousa - Tudo o Que Sou Capaz</td>\n",
       "      <td>Ângelo de Sousa - Tudo o Que Sou Capaz</td>\n",
       "      <td>2010</td>\n",
       "      <td>60.0</td>\n",
       "      <td>Biography,Documentary</td>\n",
       "    </tr>\n",
       "    <tr>\n",
       "      <th>66995</th>\n",
       "      <td>tt3815134</td>\n",
       "      <td>Ângelo de Sousa - Tudo o Que Sou Capaz</td>\n",
       "      <td>Ângelo de Sousa - Tudo o Que Sou Capaz</td>\n",
       "      <td>2010</td>\n",
       "      <td>60.0</td>\n",
       "      <td>Biography,Documentary</td>\n",
       "    </tr>\n",
       "    <tr>\n",
       "      <th>66990</th>\n",
       "      <td>tt3815124</td>\n",
       "      <td>Ângelo de Sousa - Tudo o Que Sou Capaz</td>\n",
       "      <td>Ângelo de Sousa - Tudo o Que Sou Capaz</td>\n",
       "      <td>2010</td>\n",
       "      <td>60.0</td>\n",
       "      <td>Biography,Documentary</td>\n",
       "    </tr>\n",
       "  </tbody>\n",
       "</table>\n",
       "<p>355 rows × 6 columns</p>\n",
       "</div>"
      ],
      "text/plain": [
       "           tconst                           primary_title  \\\n",
       "129979  tt8034014                100 Milioni di bracciate   \n",
       "144392  tt9660588                                 3. Elma   \n",
       "145118  tt9773302                                 3. Elma   \n",
       "105408  tt6160528                                      88   \n",
       "114899  tt6804666                                    8:30   \n",
       "...           ...                                     ...   \n",
       "66992   tt3815128  Ângelo de Sousa - Tudo o Que Sou Capaz   \n",
       "66993   tt3815130  Ângelo de Sousa - Tudo o Que Sou Capaz   \n",
       "66994   tt3815132  Ângelo de Sousa - Tudo o Que Sou Capaz   \n",
       "66995   tt3815134  Ângelo de Sousa - Tudo o Que Sou Capaz   \n",
       "66990   tt3815124  Ângelo de Sousa - Tudo o Que Sou Capaz   \n",
       "\n",
       "                                original_title  start_year  runtime_minutes  \\\n",
       "129979                100 Milioni di bracciate        2017              NaN   \n",
       "144392                                 3. Elma        2014             65.0   \n",
       "145118                                 3. Elma        2014             65.0   \n",
       "105408                                      88        2016            103.0   \n",
       "114899                                    8:30        2017             70.0   \n",
       "...                                        ...         ...              ...   \n",
       "66992   Ângelo de Sousa - Tudo o Que Sou Capaz        2010             60.0   \n",
       "66993   Ângelo de Sousa - Tudo o Que Sou Capaz        2010             60.0   \n",
       "66994   Ângelo de Sousa - Tudo o Que Sou Capaz        2010             60.0   \n",
       "66995   Ângelo de Sousa - Tudo o Que Sou Capaz        2010             60.0   \n",
       "66990   Ângelo de Sousa - Tudo o Que Sou Capaz        2010             60.0   \n",
       "\n",
       "                       genres  \n",
       "129979              Biography  \n",
       "144392                  Drama  \n",
       "145118                  Drama  \n",
       "105408            Documentary  \n",
       "114899                Mystery  \n",
       "...                       ...  \n",
       "66992   Biography,Documentary  \n",
       "66993   Biography,Documentary  \n",
       "66994   Biography,Documentary  \n",
       "66995   Biography,Documentary  \n",
       "66990   Biography,Documentary  \n",
       "\n",
       "[355 rows x 6 columns]"
      ]
     },
     "execution_count": 8,
     "metadata": {},
     "output_type": "execute_result"
    }
   ],
   "source": [
    "title_basics[title_basics[['primary_title', 'start_year', 'genres']].duplicated()].sort_values('primary_title')"
   ]
  },
  {
   "cell_type": "code",
   "execution_count": 9,
   "metadata": {},
   "outputs": [
    {
     "data": {
      "text/html": [
       "<div>\n",
       "<style scoped>\n",
       "    .dataframe tbody tr th:only-of-type {\n",
       "        vertical-align: middle;\n",
       "    }\n",
       "\n",
       "    .dataframe tbody tr th {\n",
       "        vertical-align: top;\n",
       "    }\n",
       "\n",
       "    .dataframe thead th {\n",
       "        text-align: right;\n",
       "    }\n",
       "</style>\n",
       "<table border=\"1\" class=\"dataframe\">\n",
       "  <thead>\n",
       "    <tr style=\"text-align: right;\">\n",
       "      <th></th>\n",
       "      <th>tconst</th>\n",
       "      <th>primary_title</th>\n",
       "      <th>original_title</th>\n",
       "      <th>start_year</th>\n",
       "      <th>runtime_minutes</th>\n",
       "      <th>genres</th>\n",
       "    </tr>\n",
       "  </thead>\n",
       "  <tbody>\n",
       "    <tr>\n",
       "      <th>0</th>\n",
       "      <td>tt0063540</td>\n",
       "      <td>Sunghursh</td>\n",
       "      <td>Sunghursh</td>\n",
       "      <td>2013</td>\n",
       "      <td>175.0</td>\n",
       "      <td>Action,Crime,Drama</td>\n",
       "    </tr>\n",
       "    <tr>\n",
       "      <th>1</th>\n",
       "      <td>tt0066787</td>\n",
       "      <td>One Day Before the Rainy Season</td>\n",
       "      <td>Ashad Ka Ek Din</td>\n",
       "      <td>2019</td>\n",
       "      <td>114.0</td>\n",
       "      <td>Biography,Drama</td>\n",
       "    </tr>\n",
       "    <tr>\n",
       "      <th>2</th>\n",
       "      <td>tt0069049</td>\n",
       "      <td>The Other Side of the Wind</td>\n",
       "      <td>The Other Side of the Wind</td>\n",
       "      <td>2018</td>\n",
       "      <td>122.0</td>\n",
       "      <td>Drama</td>\n",
       "    </tr>\n",
       "    <tr>\n",
       "      <th>3</th>\n",
       "      <td>tt0069204</td>\n",
       "      <td>Sabse Bada Sukh</td>\n",
       "      <td>Sabse Bada Sukh</td>\n",
       "      <td>2018</td>\n",
       "      <td>NaN</td>\n",
       "      <td>Comedy,Drama</td>\n",
       "    </tr>\n",
       "    <tr>\n",
       "      <th>4</th>\n",
       "      <td>tt0100275</td>\n",
       "      <td>The Wandering Soap Opera</td>\n",
       "      <td>La Telenovela Errante</td>\n",
       "      <td>2017</td>\n",
       "      <td>80.0</td>\n",
       "      <td>Comedy,Drama,Fantasy</td>\n",
       "    </tr>\n",
       "  </tbody>\n",
       "</table>\n",
       "</div>"
      ],
      "text/plain": [
       "      tconst                    primary_title              original_title  \\\n",
       "0  tt0063540                        Sunghursh                   Sunghursh   \n",
       "1  tt0066787  One Day Before the Rainy Season             Ashad Ka Ek Din   \n",
       "2  tt0069049       The Other Side of the Wind  The Other Side of the Wind   \n",
       "3  tt0069204                  Sabse Bada Sukh             Sabse Bada Sukh   \n",
       "4  tt0100275         The Wandering Soap Opera       La Telenovela Errante   \n",
       "\n",
       "   start_year  runtime_minutes                genres  \n",
       "0        2013            175.0    Action,Crime,Drama  \n",
       "1        2019            114.0       Biography,Drama  \n",
       "2        2018            122.0                 Drama  \n",
       "3        2018              NaN          Comedy,Drama  \n",
       "4        2017             80.0  Comedy,Drama,Fantasy  "
      ]
     },
     "execution_count": 9,
     "metadata": {},
     "output_type": "execute_result"
    }
   ],
   "source": [
    "# Previewing the first 5 rows\n",
    "title_basics.head()"
   ]
  },
  {
   "cell_type": "code",
   "execution_count": 10,
   "metadata": {},
   "outputs": [
    {
     "name": "stdout",
     "output_type": "stream",
     "text": [
      "<class 'pandas.core.frame.DataFrame'>\n",
      "RangeIndex: 146144 entries, 0 to 146143\n",
      "Data columns (total 6 columns):\n",
      " #   Column           Non-Null Count   Dtype  \n",
      "---  ------           --------------   -----  \n",
      " 0   tconst           146144 non-null  object \n",
      " 1   primary_title    146144 non-null  object \n",
      " 2   original_title   146123 non-null  object \n",
      " 3   start_year       146144 non-null  int64  \n",
      " 4   runtime_minutes  114405 non-null  float64\n",
      " 5   genres           140736 non-null  object \n",
      "dtypes: float64(1), int64(1), object(4)\n",
      "memory usage: 6.7+ MB\n"
     ]
    }
   ],
   "source": [
    "# Getting a concise summary of the datafram\n",
    "title_basics.info()"
   ]
  },
  {
   "cell_type": "markdown",
   "metadata": {},
   "source": [
    "##### **3. Understanding the *ratings* dataframe** "
   ]
  },
  {
   "cell_type": "code",
   "execution_count": 11,
   "metadata": {},
   "outputs": [
    {
     "data": {
      "text/html": [
       "<div>\n",
       "<style scoped>\n",
       "    .dataframe tbody tr th:only-of-type {\n",
       "        vertical-align: middle;\n",
       "    }\n",
       "\n",
       "    .dataframe tbody tr th {\n",
       "        vertical-align: top;\n",
       "    }\n",
       "\n",
       "    .dataframe thead th {\n",
       "        text-align: right;\n",
       "    }\n",
       "</style>\n",
       "<table border=\"1\" class=\"dataframe\">\n",
       "  <thead>\n",
       "    <tr style=\"text-align: right;\">\n",
       "      <th></th>\n",
       "      <th>tconst</th>\n",
       "      <th>averagerating</th>\n",
       "      <th>numvotes</th>\n",
       "    </tr>\n",
       "  </thead>\n",
       "  <tbody>\n",
       "    <tr>\n",
       "      <th>0</th>\n",
       "      <td>tt10356526</td>\n",
       "      <td>8.3</td>\n",
       "      <td>31</td>\n",
       "    </tr>\n",
       "    <tr>\n",
       "      <th>1</th>\n",
       "      <td>tt10384606</td>\n",
       "      <td>8.9</td>\n",
       "      <td>559</td>\n",
       "    </tr>\n",
       "    <tr>\n",
       "      <th>2</th>\n",
       "      <td>tt1042974</td>\n",
       "      <td>6.4</td>\n",
       "      <td>20</td>\n",
       "    </tr>\n",
       "    <tr>\n",
       "      <th>3</th>\n",
       "      <td>tt1043726</td>\n",
       "      <td>4.2</td>\n",
       "      <td>50352</td>\n",
       "    </tr>\n",
       "    <tr>\n",
       "      <th>4</th>\n",
       "      <td>tt1060240</td>\n",
       "      <td>6.5</td>\n",
       "      <td>21</td>\n",
       "    </tr>\n",
       "  </tbody>\n",
       "</table>\n",
       "</div>"
      ],
      "text/plain": [
       "       tconst  averagerating  numvotes\n",
       "0  tt10356526            8.3        31\n",
       "1  tt10384606            8.9       559\n",
       "2   tt1042974            6.4        20\n",
       "3   tt1043726            4.2     50352\n",
       "4   tt1060240            6.5        21"
      ]
     },
     "execution_count": 11,
     "metadata": {},
     "output_type": "execute_result"
    }
   ],
   "source": [
    "#Previewing the first 5 rows\n",
    "ratings.head()"
   ]
  },
  {
   "cell_type": "code",
   "execution_count": 12,
   "metadata": {},
   "outputs": [
    {
     "name": "stdout",
     "output_type": "stream",
     "text": [
      "<class 'pandas.core.frame.DataFrame'>\n",
      "RangeIndex: 73856 entries, 0 to 73855\n",
      "Data columns (total 3 columns):\n",
      " #   Column         Non-Null Count  Dtype  \n",
      "---  ------         --------------  -----  \n",
      " 0   tconst         73856 non-null  object \n",
      " 1   averagerating  73856 non-null  float64\n",
      " 2   numvotes       73856 non-null  int64  \n",
      "dtypes: float64(1), int64(1), object(1)\n",
      "memory usage: 1.7+ MB\n"
     ]
    }
   ],
   "source": [
    "# Getting a concise summary of the datafram\n",
    "ratings.info()"
   ]
  },
  {
   "cell_type": "code",
   "execution_count": 13,
   "metadata": {},
   "outputs": [
    {
     "data": {
      "text/html": [
       "<div>\n",
       "<style scoped>\n",
       "    .dataframe tbody tr th:only-of-type {\n",
       "        vertical-align: middle;\n",
       "    }\n",
       "\n",
       "    .dataframe tbody tr th {\n",
       "        vertical-align: top;\n",
       "    }\n",
       "\n",
       "    .dataframe thead th {\n",
       "        text-align: right;\n",
       "    }\n",
       "</style>\n",
       "<table border=\"1\" class=\"dataframe\">\n",
       "  <thead>\n",
       "    <tr style=\"text-align: right;\">\n",
       "      <th></th>\n",
       "      <th>averagerating</th>\n",
       "      <th>numvotes</th>\n",
       "    </tr>\n",
       "  </thead>\n",
       "  <tbody>\n",
       "    <tr>\n",
       "      <th>count</th>\n",
       "      <td>73856.000000</td>\n",
       "      <td>7.385600e+04</td>\n",
       "    </tr>\n",
       "    <tr>\n",
       "      <th>mean</th>\n",
       "      <td>6.332729</td>\n",
       "      <td>3.523662e+03</td>\n",
       "    </tr>\n",
       "    <tr>\n",
       "      <th>std</th>\n",
       "      <td>1.474978</td>\n",
       "      <td>3.029402e+04</td>\n",
       "    </tr>\n",
       "    <tr>\n",
       "      <th>min</th>\n",
       "      <td>1.000000</td>\n",
       "      <td>5.000000e+00</td>\n",
       "    </tr>\n",
       "    <tr>\n",
       "      <th>25%</th>\n",
       "      <td>5.500000</td>\n",
       "      <td>1.400000e+01</td>\n",
       "    </tr>\n",
       "    <tr>\n",
       "      <th>50%</th>\n",
       "      <td>6.500000</td>\n",
       "      <td>4.900000e+01</td>\n",
       "    </tr>\n",
       "    <tr>\n",
       "      <th>75%</th>\n",
       "      <td>7.400000</td>\n",
       "      <td>2.820000e+02</td>\n",
       "    </tr>\n",
       "    <tr>\n",
       "      <th>max</th>\n",
       "      <td>10.000000</td>\n",
       "      <td>1.841066e+06</td>\n",
       "    </tr>\n",
       "  </tbody>\n",
       "</table>\n",
       "</div>"
      ],
      "text/plain": [
       "       averagerating      numvotes\n",
       "count   73856.000000  7.385600e+04\n",
       "mean        6.332729  3.523662e+03\n",
       "std         1.474978  3.029402e+04\n",
       "min         1.000000  5.000000e+00\n",
       "25%         5.500000  1.400000e+01\n",
       "50%         6.500000  4.900000e+01\n",
       "75%         7.400000  2.820000e+02\n",
       "max        10.000000  1.841066e+06"
      ]
     },
     "execution_count": 13,
     "metadata": {},
     "output_type": "execute_result"
    }
   ],
   "source": [
    "# Statistical of the dataframe \n",
    "ratings.describe()"
   ]
  },
  {
   "cell_type": "markdown",
   "metadata": {},
   "source": [
    "## **Data Cleaning**"
   ]
  },
  {
   "cell_type": "markdown",
   "metadata": {},
   "source": [
    "> ### **1. Cleaning *movie_gross* dataframe**"
   ]
  },
  {
   "cell_type": "markdown",
   "metadata": {},
   "source": [
    "* #### **Identifying duplicates**\n",
    "    <ul type='square'><li>Checking for duplicates using the title and year column,since we don't want movies with the same title and were produced in the same year  </li> <ul>"
   ]
  },
  {
   "cell_type": "code",
   "execution_count": 14,
   "metadata": {},
   "outputs": [
    {
     "data": {
      "text/plain": [
       "0"
      ]
     },
     "execution_count": 14,
     "metadata": {},
     "output_type": "execute_result"
    }
   ],
   "source": [
    "movie_gross[['title', 'year']].duplicated(keep=False).sum()\n",
    "    #The dataset has no duplicates."
   ]
  },
  {
   "cell_type": "markdown",
   "metadata": {},
   "source": [
    "* #### **Identifying missing values**\n",
    "    <ul type='square'><li>Created a function to print out columns with missing data in a dataframe. </li> <ul>\n"
   ]
  },
  {
   "cell_type": "code",
   "execution_count": 15,
   "metadata": {},
   "outputs": [],
   "source": [
    "def column_missing_values(data):\n",
    "    \n",
    "    \"\"\"A function to check for missing values\"\"\"\n",
    "\n",
    "    missing_data = {column:data[column].isnull().sum() for column in data.columns  if data[column].isnull().sum()}\n",
    "    return(missing_data)"
   ]
  },
  {
   "cell_type": "code",
   "execution_count": 16,
   "metadata": {},
   "outputs": [
    {
     "data": {
      "text/plain": [
       "{'studio': 5, 'domestic_gross': 28, 'foreign_gross': 1350}"
      ]
     },
     "execution_count": 16,
     "metadata": {},
     "output_type": "execute_result"
    }
   ],
   "source": [
    "# Checking for missing values by calling the column_missing_values function\n",
    "\n",
    "column_missing_values(movie_gross)"
   ]
  },
  {
   "cell_type": "code",
   "execution_count": 17,
   "metadata": {},
   "outputs": [],
   "source": [
    "#Replacing the missing values in column 'studio' with 'Unknown'\n",
    "\n",
    "movie_gross['studio'].fillna('Unknown', inplace=True)"
   ]
  },
  {
   "cell_type": "code",
   "execution_count": 18,
   "metadata": {},
   "outputs": [
    {
     "data": {
      "text/plain": [
       "{'domestic_gross': 28, 'foreign_gross': 1350}"
      ]
     },
     "execution_count": 18,
     "metadata": {},
     "output_type": "execute_result"
    }
   ],
   "source": [
    "#Confirming the missing values in column 'studio' have been dropped\n",
    "\n",
    "column_missing_values(movie_gross)"
   ]
  },
  {
   "cell_type": "code",
   "execution_count": 19,
   "metadata": {},
   "outputs": [],
   "source": [
    "#Replacing the missing values in column 'domestic_gross' with zero\n",
    "\n",
    "movie_gross['domestic_gross'].fillna(0, inplace=True)"
   ]
  },
  {
   "cell_type": "code",
   "execution_count": 20,
   "metadata": {},
   "outputs": [
    {
     "data": {
      "text/plain": [
       "{'foreign_gross': 1350}"
      ]
     },
     "execution_count": 20,
     "metadata": {},
     "output_type": "execute_result"
    }
   ],
   "source": [
    "#Confirming the missing values in column 'domestic_gross' have been dropped\n",
    "\n",
    "column_missing_values(movie_gross)"
   ]
  },
  {
   "cell_type": "code",
   "execution_count": 21,
   "metadata": {},
   "outputs": [
    {
     "data": {
      "text/plain": [
       "False    0.601417\n",
       "True     0.398583\n",
       "Name: foreign_gross, dtype: float64"
      ]
     },
     "execution_count": 21,
     "metadata": {},
     "output_type": "execute_result"
    }
   ],
   "source": [
    "# The percentage of missing values in column foreign_gross is 39%.\n",
    "\n",
    "movie_gross[\"foreign_gross\"].isnull().value_counts(normalize=True)"
   ]
  },
  {
   "cell_type": "code",
   "execution_count": 22,
   "metadata": {},
   "outputs": [],
   "source": [
    "#Replacing the missing values in column 'foreign_gross' with zero\n",
    "\n",
    "movie_gross['foreign_gross'].fillna(0, inplace=True)"
   ]
  },
  {
   "cell_type": "code",
   "execution_count": 23,
   "metadata": {},
   "outputs": [
    {
     "data": {
      "text/plain": [
       "{}"
      ]
     },
     "execution_count": 23,
     "metadata": {},
     "output_type": "execute_result"
    }
   ],
   "source": [
    "#Confirming the missing values in column 'foreign_gross' have been dropped\n",
    "\n",
    "column_missing_values(movie_gross)"
   ]
  },
  {
   "cell_type": "markdown",
   "metadata": {},
   "source": [
    "* #### **Checking the data types**"
   ]
  },
  {
   "cell_type": "code",
   "execution_count": 24,
   "metadata": {},
   "outputs": [
    {
     "data": {
      "text/plain": [
       "title              object\n",
       "studio             object\n",
       "domestic_gross    float64\n",
       "foreign_gross      object\n",
       "year                int64\n",
       "dtype: object"
      ]
     },
     "execution_count": 24,
     "metadata": {},
     "output_type": "execute_result"
    }
   ],
   "source": [
    "movie_gross.dtypes"
   ]
  },
  {
   "cell_type": "markdown",
   "metadata": {},
   "source": [
    ">   <ul type='square'><li> foreign_gross, year have incorrect datatypes </li> <ul>\n",
    "\n"
   ]
  },
  {
   "cell_type": "code",
   "execution_count": 25,
   "metadata": {},
   "outputs": [],
   "source": [
    "#Converting the datatype of the 'foreign_gross' column from object to float64\n",
    "\n",
    "movie_gross['foreign_gross'] = [float(str(i).replace(\",\", \"\")) for i in movie_gross['foreign_gross']]"
   ]
  },
  {
   "cell_type": "code",
   "execution_count": 26,
   "metadata": {},
   "outputs": [],
   "source": [
    "# Converting the datatype of the 'year column' from int64 to int32\n",
    "# This will allow the correct output to be displayed when the datatype is converted to datetime64[ns]\n",
    "\n",
    "movie_gross['year'].astype('int32')\n",
    "\n",
    "#Converting the datatype from int32 to datetime64[ns]\n",
    "\n",
    "movie_gross['year'] = pd.to_datetime(movie_gross['year'], format = '%Y')"
   ]
  },
  {
   "cell_type": "code",
   "execution_count": 27,
   "metadata": {},
   "outputs": [
    {
     "data": {
      "text/plain": [
       "title                     object\n",
       "studio                    object\n",
       "domestic_gross           float64\n",
       "foreign_gross            float64\n",
       "year              datetime64[ns]\n",
       "dtype: object"
      ]
     },
     "execution_count": 27,
     "metadata": {},
     "output_type": "execute_result"
    }
   ],
   "source": [
    "#Confirming all the data types are now correct\n",
    "\n",
    "movie_gross.dtypes"
   ]
  },
  {
   "cell_type": "markdown",
   "metadata": {},
   "source": [
    "* #### **Checking for placeholders and Outliers**\n",
    "    > <ul type='square'> <li>Created a function to check for placeholders. </li> <ul>"
   ]
  },
  {
   "cell_type": "code",
   "execution_count": 28,
   "metadata": {},
   "outputs": [],
   "source": [
    "def check_placeholders(data):\n",
    "    \n",
    "    \"\"\" A function for checking for placeholders in the dataframe\"\"\"\n",
    "\n",
    "    for column in data.columns:\n",
    "        print(data[column].value_counts())\n",
    "        print('***************************************************\\n')"
   ]
  },
  {
   "cell_type": "code",
   "execution_count": 29,
   "metadata": {},
   "outputs": [
    {
     "name": "stdout",
     "output_type": "stream",
     "text": [
      "Bluebeard                    2\n",
      "I'll See You In My Dreams    1\n",
      "Earth to Echo                1\n",
      "The Green Inferno            1\n",
      "Blockers                     1\n",
      "                            ..\n",
      "Himmatwala                   1\n",
      "Oculus                       1\n",
      "First Man                    1\n",
      "Wonderstruck                 1\n",
      "Hit and Run                  1\n",
      "Name: title, Length: 3386, dtype: int64\n",
      "***************************************************\n",
      "\n",
      "IFC      166\n",
      "Uni.     147\n",
      "WB       140\n",
      "Magn.    136\n",
      "Fox      136\n",
      "        ... \n",
      "Argo.      1\n",
      "Arth.      1\n",
      "AaF        1\n",
      "WOW        1\n",
      "B360       1\n",
      "Name: studio, Length: 258, dtype: int64\n",
      "***************************************************\n",
      "\n",
      "1100000.0      32\n",
      "1000000.0      30\n",
      "1300000.0      30\n",
      "0.0            28\n",
      "1200000.0      25\n",
      "               ..\n",
      "71900.0         1\n",
      "87000000.0      1\n",
      "739000.0        1\n",
      "336000000.0     1\n",
      "221000.0        1\n",
      "Name: domestic_gross, Length: 1798, dtype: int64\n",
      "***************************************************\n",
      "\n",
      "0.0            1350\n",
      "1200000.0        23\n",
      "1100000.0        14\n",
      "1900000.0        12\n",
      "4200000.0        12\n",
      "               ... \n",
      "248100000.0       1\n",
      "494100000.0       1\n",
      "9500.0            1\n",
      "92000000.0        1\n",
      "128000.0          1\n",
      "Name: foreign_gross, Length: 1205, dtype: int64\n",
      "***************************************************\n",
      "\n",
      "2015-01-01    450\n",
      "2016-01-01    436\n",
      "2012-01-01    400\n",
      "2011-01-01    399\n",
      "2014-01-01    395\n",
      "2013-01-01    350\n",
      "2010-01-01    328\n",
      "2017-01-01    321\n",
      "2018-01-01    308\n",
      "Name: year, dtype: int64\n",
      "***************************************************\n",
      "\n"
     ]
    }
   ],
   "source": [
    "# Checking the placeholders and outliers by calling the check_placeholders() function\n",
    "\n",
    "check_placeholders(movie_gross)\n",
    "\n",
    "    # The data has no placeholders or outliers "
   ]
  },
  {
   "cell_type": "markdown",
   "metadata": {},
   "source": [
    "* #### **Creating a new column called 'total_gross' that is a sum of 'domestic_gross' and 'foreign_gross'**"
   ]
  },
  {
   "cell_type": "code",
   "execution_count": 30,
   "metadata": {},
   "outputs": [
    {
     "data": {
      "text/html": [
       "<div>\n",
       "<style scoped>\n",
       "    .dataframe tbody tr th:only-of-type {\n",
       "        vertical-align: middle;\n",
       "    }\n",
       "\n",
       "    .dataframe tbody tr th {\n",
       "        vertical-align: top;\n",
       "    }\n",
       "\n",
       "    .dataframe thead th {\n",
       "        text-align: right;\n",
       "    }\n",
       "</style>\n",
       "<table border=\"1\" class=\"dataframe\">\n",
       "  <thead>\n",
       "    <tr style=\"text-align: right;\">\n",
       "      <th></th>\n",
       "      <th>title</th>\n",
       "      <th>studio</th>\n",
       "      <th>domestic_gross</th>\n",
       "      <th>foreign_gross</th>\n",
       "      <th>year</th>\n",
       "      <th>total_gross</th>\n",
       "    </tr>\n",
       "  </thead>\n",
       "  <tbody>\n",
       "    <tr>\n",
       "      <th>0</th>\n",
       "      <td>Toy Story 3</td>\n",
       "      <td>BV</td>\n",
       "      <td>415000000.0</td>\n",
       "      <td>652000000.0</td>\n",
       "      <td>2010-01-01</td>\n",
       "      <td>1.067000e+09</td>\n",
       "    </tr>\n",
       "    <tr>\n",
       "      <th>1</th>\n",
       "      <td>Alice in Wonderland (2010)</td>\n",
       "      <td>BV</td>\n",
       "      <td>334200000.0</td>\n",
       "      <td>691300000.0</td>\n",
       "      <td>2010-01-01</td>\n",
       "      <td>1.025500e+09</td>\n",
       "    </tr>\n",
       "  </tbody>\n",
       "</table>\n",
       "</div>"
      ],
      "text/plain": [
       "                        title studio  domestic_gross  foreign_gross  \\\n",
       "0                 Toy Story 3     BV     415000000.0    652000000.0   \n",
       "1  Alice in Wonderland (2010)     BV     334200000.0    691300000.0   \n",
       "\n",
       "        year   total_gross  \n",
       "0 2010-01-01  1.067000e+09  \n",
       "1 2010-01-01  1.025500e+09  "
      ]
     },
     "execution_count": 30,
     "metadata": {},
     "output_type": "execute_result"
    }
   ],
   "source": [
    "movie_gross = movie_gross.eval(\"total_gross = domestic_gross + foreign_gross\")\n",
    "movie_gross.head(2)"
   ]
  },
  {
   "cell_type": "markdown",
   "metadata": {},
   "source": [
    "> ### 2. **Cleaning *title_basics* DataFrame**"
   ]
  },
  {
   "cell_type": "markdown",
   "metadata": {},
   "source": [
    " * #### **Identifying duplicates**"
   ]
  },
  {
   "cell_type": "code",
   "execution_count": 31,
   "metadata": {},
   "outputs": [
    {
     "data": {
      "text/html": [
       "<div>\n",
       "<style scoped>\n",
       "    .dataframe tbody tr th:only-of-type {\n",
       "        vertical-align: middle;\n",
       "    }\n",
       "\n",
       "    .dataframe tbody tr th {\n",
       "        vertical-align: top;\n",
       "    }\n",
       "\n",
       "    .dataframe thead th {\n",
       "        text-align: right;\n",
       "    }\n",
       "</style>\n",
       "<table border=\"1\" class=\"dataframe\">\n",
       "  <thead>\n",
       "    <tr style=\"text-align: right;\">\n",
       "      <th></th>\n",
       "      <th>tconst</th>\n",
       "      <th>primary_title</th>\n",
       "      <th>original_title</th>\n",
       "      <th>start_year</th>\n",
       "      <th>runtime_minutes</th>\n",
       "      <th>genres</th>\n",
       "    </tr>\n",
       "  </thead>\n",
       "  <tbody>\n",
       "    <tr>\n",
       "      <th>106201</th>\n",
       "      <td>tt6214664</td>\n",
       "      <td>(aguirre)</td>\n",
       "      <td>(aguirre)</td>\n",
       "      <td>2016</td>\n",
       "      <td>98.0</td>\n",
       "      <td>Biography,Comedy,Documentary</td>\n",
       "    </tr>\n",
       "    <tr>\n",
       "      <th>103890</th>\n",
       "      <td>tt6085916</td>\n",
       "      <td>(aguirre)</td>\n",
       "      <td>(aguirre)</td>\n",
       "      <td>2016</td>\n",
       "      <td>97.0</td>\n",
       "      <td>Biography,Documentary</td>\n",
       "    </tr>\n",
       "    <tr>\n",
       "      <th>129962</th>\n",
       "      <td>tt8032828</td>\n",
       "      <td>100 Milioni di bracciate</td>\n",
       "      <td>100 Milioni di bracciate</td>\n",
       "      <td>2017</td>\n",
       "      <td>NaN</td>\n",
       "      <td>Biography</td>\n",
       "    </tr>\n",
       "    <tr>\n",
       "      <th>129979</th>\n",
       "      <td>tt8034014</td>\n",
       "      <td>100 Milioni di bracciate</td>\n",
       "      <td>100 Milioni di bracciate</td>\n",
       "      <td>2017</td>\n",
       "      <td>NaN</td>\n",
       "      <td>Biography</td>\n",
       "    </tr>\n",
       "    <tr>\n",
       "      <th>24194</th>\n",
       "      <td>tt1979163</td>\n",
       "      <td>180</td>\n",
       "      <td>180</td>\n",
       "      <td>2011</td>\n",
       "      <td>107.0</td>\n",
       "      <td>Comedy,Drama</td>\n",
       "    </tr>\n",
       "    <tr>\n",
       "      <th>...</th>\n",
       "      <td>...</td>\n",
       "      <td>...</td>\n",
       "      <td>...</td>\n",
       "      <td>...</td>\n",
       "      <td>...</td>\n",
       "      <td>...</td>\n",
       "    </tr>\n",
       "    <tr>\n",
       "      <th>66995</th>\n",
       "      <td>tt3815134</td>\n",
       "      <td>Ângelo de Sousa - Tudo o Que Sou Capaz</td>\n",
       "      <td>Ângelo de Sousa - Tudo o Que Sou Capaz</td>\n",
       "      <td>2010</td>\n",
       "      <td>60.0</td>\n",
       "      <td>Biography,Documentary</td>\n",
       "    </tr>\n",
       "    <tr>\n",
       "      <th>66992</th>\n",
       "      <td>tt3815128</td>\n",
       "      <td>Ângelo de Sousa - Tudo o Que Sou Capaz</td>\n",
       "      <td>Ângelo de Sousa - Tudo o Que Sou Capaz</td>\n",
       "      <td>2010</td>\n",
       "      <td>60.0</td>\n",
       "      <td>Biography,Documentary</td>\n",
       "    </tr>\n",
       "    <tr>\n",
       "      <th>66991</th>\n",
       "      <td>tt3815126</td>\n",
       "      <td>Ângelo de Sousa - Tudo o Que Sou Capaz</td>\n",
       "      <td>Ângelo de Sousa - Tudo o Que Sou Capaz</td>\n",
       "      <td>2010</td>\n",
       "      <td>60.0</td>\n",
       "      <td>Biography,Documentary</td>\n",
       "    </tr>\n",
       "    <tr>\n",
       "      <th>92592</th>\n",
       "      <td>tt5352034</td>\n",
       "      <td>Çagrilan</td>\n",
       "      <td>Çagrilan</td>\n",
       "      <td>2016</td>\n",
       "      <td>85.0</td>\n",
       "      <td>Horror</td>\n",
       "    </tr>\n",
       "    <tr>\n",
       "      <th>109103</th>\n",
       "      <td>tt6412726</td>\n",
       "      <td>Çagrilan</td>\n",
       "      <td>Çagrilan</td>\n",
       "      <td>2016</td>\n",
       "      <td>NaN</td>\n",
       "      <td>NaN</td>\n",
       "    </tr>\n",
       "  </tbody>\n",
       "</table>\n",
       "<p>3942 rows × 6 columns</p>\n",
       "</div>"
      ],
      "text/plain": [
       "           tconst                           primary_title  \\\n",
       "106201  tt6214664                               (aguirre)   \n",
       "103890  tt6085916                               (aguirre)   \n",
       "129962  tt8032828                100 Milioni di bracciate   \n",
       "129979  tt8034014                100 Milioni di bracciate   \n",
       "24194   tt1979163                                     180   \n",
       "...           ...                                     ...   \n",
       "66995   tt3815134  Ângelo de Sousa - Tudo o Que Sou Capaz   \n",
       "66992   tt3815128  Ângelo de Sousa - Tudo o Que Sou Capaz   \n",
       "66991   tt3815126  Ângelo de Sousa - Tudo o Que Sou Capaz   \n",
       "92592   tt5352034                                Çagrilan   \n",
       "109103  tt6412726                                Çagrilan   \n",
       "\n",
       "                                original_title  start_year  runtime_minutes  \\\n",
       "106201                               (aguirre)        2016             98.0   \n",
       "103890                               (aguirre)        2016             97.0   \n",
       "129962                100 Milioni di bracciate        2017              NaN   \n",
       "129979                100 Milioni di bracciate        2017              NaN   \n",
       "24194                                      180        2011            107.0   \n",
       "...                                        ...         ...              ...   \n",
       "66995   Ângelo de Sousa - Tudo o Que Sou Capaz        2010             60.0   \n",
       "66992   Ângelo de Sousa - Tudo o Que Sou Capaz        2010             60.0   \n",
       "66991   Ângelo de Sousa - Tudo o Que Sou Capaz        2010             60.0   \n",
       "92592                                 Çagrilan        2016             85.0   \n",
       "109103                                Çagrilan        2016              NaN   \n",
       "\n",
       "                              genres  \n",
       "106201  Biography,Comedy,Documentary  \n",
       "103890         Biography,Documentary  \n",
       "129962                     Biography  \n",
       "129979                     Biography  \n",
       "24194                   Comedy,Drama  \n",
       "...                              ...  \n",
       "66995          Biography,Documentary  \n",
       "66992          Biography,Documentary  \n",
       "66991          Biography,Documentary  \n",
       "92592                         Horror  \n",
       "109103                           NaN  \n",
       "\n",
       "[3942 rows x 6 columns]"
      ]
     },
     "execution_count": 31,
     "metadata": {},
     "output_type": "execute_result"
    }
   ],
   "source": [
    "#Checking for duplicates using the 'primary_title' and 'start_year' columns\n",
    "title_basics[title_basics[['primary_title', 'start_year']].duplicated(keep=False)].sort_values('primary_title')"
   ]
  },
  {
   "cell_type": "markdown",
   "metadata": {},
   "source": [
    " - Dropping the above duplicates while keeping the entry with the least number of null values was achieved by:\n",
    "  \n",
    "    <ol type='i'> <li> Creating a new column called 'Number_missing' that has the count of the number of missing values per row.</li> \n",
    "    <li>Arranged that new column by ascending order so that rows with high number of missing values are the last. </li>\n",
    "    <li>Dropped duplicates using the 'primary_title' and 'start_year' column and kept the first entry which has the least number of null values. </li>\n",
    "    <li> Dropped the column 'Number_missing' since it is no longer required in the dataframe</li>\n",
    "\n",
    "</ol>"
   ]
  },
  {
   "cell_type": "code",
   "execution_count": 32,
   "metadata": {},
   "outputs": [],
   "source": [
    "title_basics = title_basics.assign(Number_missing=title_basics.isnull().sum(1))\\\n",
    "                    .sort_values(by='Number_missing', ascending=True)\\\n",
    "                    .drop_duplicates(subset=['primary_title', 'start_year'], keep='first')\\\n",
    "                    .drop('Number_missing', axis=1)"
   ]
  },
  {
   "cell_type": "code",
   "execution_count": 33,
   "metadata": {},
   "outputs": [
    {
     "data": {
      "text/plain": [
       "0"
      ]
     },
     "execution_count": 33,
     "metadata": {},
     "output_type": "execute_result"
    }
   ],
   "source": [
    "#Confirming the duplicates have been dropped\n",
    "\n",
    "title_basics[['primary_title', 'start_year']].duplicated().sum()"
   ]
  },
  {
   "cell_type": "markdown",
   "metadata": {},
   "source": [
    "* #### **Identifying missing values**"
   ]
  },
  {
   "cell_type": "code",
   "execution_count": 34,
   "metadata": {},
   "outputs": [
    {
     "data": {
      "text/plain": [
       "{'original_title': 16, 'runtime_minutes': 30979, 'genres': 5147}"
      ]
     },
     "execution_count": 34,
     "metadata": {},
     "output_type": "execute_result"
    }
   ],
   "source": [
    "# Checking the missing values by calling the column_missing_values() function\n",
    "\n",
    "column_missing_values(title_basics)"
   ]
  },
  {
   "cell_type": "code",
   "execution_count": 35,
   "metadata": {},
   "outputs": [],
   "source": [
    "# Replacing missing values in the 'original_title' column with corresponding values in the 'primary_title' column\n",
    "\n",
    "title_basics['original_title'].fillna(title_basics['primary_title'], inplace=True)"
   ]
  },
  {
   "cell_type": "code",
   "execution_count": 36,
   "metadata": {},
   "outputs": [
    {
     "data": {
      "text/plain": [
       "{'runtime_minutes': 30979, 'genres': 5147}"
      ]
     },
     "execution_count": 36,
     "metadata": {},
     "output_type": "execute_result"
    }
   ],
   "source": [
    "# Confirming the missing values in the 'original_title' have been replaced\n",
    "\n",
    "column_missing_values(title_basics)"
   ]
  },
  {
   "cell_type": "code",
   "execution_count": 37,
   "metadata": {},
   "outputs": [],
   "source": [
    "# Replacing the missing values in the 'runtime_minutes' column with the median\n",
    "\n",
    "runtime_minutes_median = title_basics['runtime_minutes'].median()\n",
    "title_basics['runtime_minutes'].fillna(runtime_minutes_median, inplace=True)"
   ]
  },
  {
   "cell_type": "code",
   "execution_count": 38,
   "metadata": {},
   "outputs": [
    {
     "data": {
      "text/plain": [
       "{'genres': 5147}"
      ]
     },
     "execution_count": 38,
     "metadata": {},
     "output_type": "execute_result"
    }
   ],
   "source": [
    "# Confirming the null values in 'runtime_minutes' have been replaced\n",
    "\n",
    "column_missing_values(title_basics)"
   ]
  },
  {
   "cell_type": "code",
   "execution_count": 39,
   "metadata": {},
   "outputs": [
    {
     "data": {
      "text/plain": [
       "False    0.964275\n",
       "True     0.035725\n",
       "Name: genres, dtype: float64"
      ]
     },
     "execution_count": 39,
     "metadata": {},
     "output_type": "execute_result"
    }
   ],
   "source": [
    "# The missing values in the 'genres' column comprise of 3% of the data, which is a small percentage\n",
    "# Genre is an important column and replacing the missing values with 'unknown' will be of no help\n",
    "# It's better to drop the rows with missing values\n",
    "\n",
    "title_basics['genres'].isnull().value_counts(normalize=True)"
   ]
  },
  {
   "cell_type": "code",
   "execution_count": 40,
   "metadata": {},
   "outputs": [],
   "source": [
    "# Dropping the rows with missing values in the 'genres' column\n",
    "\n",
    "title_basics.dropna(subset=['genres'], axis=0, inplace=True)\n"
   ]
  },
  {
   "cell_type": "code",
   "execution_count": 41,
   "metadata": {},
   "outputs": [
    {
     "data": {
      "text/plain": [
       "{}"
      ]
     },
     "execution_count": 41,
     "metadata": {},
     "output_type": "execute_result"
    }
   ],
   "source": [
    "# Confirming the missing values in the 'genres' have been replaced\n",
    "\n",
    "column_missing_values(title_basics)"
   ]
  },
  {
   "cell_type": "markdown",
   "metadata": {},
   "source": [
    "* #### **Checking the data types**"
   ]
  },
  {
   "cell_type": "code",
   "execution_count": 42,
   "metadata": {},
   "outputs": [
    {
     "data": {
      "text/plain": [
       "tconst              object\n",
       "primary_title       object\n",
       "original_title      object\n",
       "start_year           int64\n",
       "runtime_minutes    float64\n",
       "genres              object\n",
       "dtype: object"
      ]
     },
     "execution_count": 42,
     "metadata": {},
     "output_type": "execute_result"
    }
   ],
   "source": [
    "title_basics.dtypes"
   ]
  },
  {
   "cell_type": "markdown",
   "metadata": {},
   "source": [
    ">   <ul type='square'> <li> start_year and runtime_minutes have the wrong data types </li> </ul>"
   ]
  },
  {
   "cell_type": "code",
   "execution_count": 43,
   "metadata": {},
   "outputs": [],
   "source": [
    "# Converting the datatype of the 'start_year' column from int64 to int32\n",
    "# This will allow the correct output to be displayed when the datatype is converted to datetime64[ns]\n",
    "\n",
    "title_basics['start_year'].astype('int32')\n",
    "\n",
    "# Converting the datatype from int32 to datetime64[ns]\n",
    "\n",
    "title_basics['start_year'] = pd.to_datetime(title_basics['start_year'], format = '%Y')"
   ]
  },
  {
   "cell_type": "code",
   "execution_count": 44,
   "metadata": {},
   "outputs": [],
   "source": [
    "#Converting the datatype of the 'runtime_minutes' column from float64 to timedelta64[ns]\n",
    "\n",
    "title_basics['runtime_minutes'] = pd.to_timedelta(title_basics['runtime_minutes'], unit='m')"
   ]
  },
  {
   "cell_type": "code",
   "execution_count": 45,
   "metadata": {},
   "outputs": [
    {
     "data": {
      "text/plain": [
       "tconst                      object\n",
       "primary_title               object\n",
       "original_title              object\n",
       "start_year          datetime64[ns]\n",
       "runtime_minutes    timedelta64[ns]\n",
       "genres                      object\n",
       "dtype: object"
      ]
     },
     "execution_count": 45,
     "metadata": {},
     "output_type": "execute_result"
    }
   ],
   "source": [
    "# Confirming all the data types are now correct\n",
    "title_basics.dtypes"
   ]
  },
  {
   "cell_type": "markdown",
   "metadata": {},
   "source": [
    "* #### **Checking for placeholders or outliers in the dataframe**"
   ]
  },
  {
   "cell_type": "code",
   "execution_count": 46,
   "metadata": {},
   "outputs": [
    {
     "name": "stdout",
     "output_type": "stream",
     "text": [
      "tt3971760    1\n",
      "tt8661030    1\n",
      "tt5824952    1\n",
      "tt4161288    1\n",
      "tt1976018    1\n",
      "            ..\n",
      "tt3828104    1\n",
      "tt1636780    1\n",
      "tt4743416    1\n",
      "tt9518824    1\n",
      "tt2210587    1\n",
      "Name: tconst, Length: 138925, dtype: int64\n",
      "***************************************************\n",
      "\n",
      "Hunting Season                                              8\n",
      "Invisible                                                   8\n",
      "Hope                                                        8\n",
      "Home                                                        8\n",
      "Together                                                    8\n",
      "                                                           ..\n",
      "The Resilient Ones: A Generation Takes on Climate Change    1\n",
      "Yala Jeevan Aise Naav                                       1\n",
      "Sicilian Ghost Story                                        1\n",
      "Seedlings                                                   1\n",
      "Third Is My First                                           1\n",
      "Name: primary_title, Length: 131336, dtype: int64\n",
      "***************************************************\n",
      "\n",
      "The Gift                         8\n",
      "Hope                             8\n",
      "Home                             7\n",
      "Closure                          7\n",
      "Lucky                            7\n",
      "                                ..\n",
      "Liahona                          1\n",
      "Dying Laughing                   1\n",
      "14th Floor                       1\n",
      "Incite Happiness                 1\n",
      "Memories, Dreams, and Shadows    1\n",
      "Name: original_title, Length: 132746, dtype: int64\n",
      "***************************************************\n",
      "\n",
      "2017-01-01    16563\n",
      "2016-01-01    16099\n",
      "2018-01-01    16041\n",
      "2015-01-01    15330\n",
      "2014-01-01    14915\n",
      "2013-01-01    14116\n",
      "2012-01-01    13209\n",
      "2011-01-01    12316\n",
      "2010-01-01    11352\n",
      "2019-01-01     7979\n",
      "2020-01-01      896\n",
      "2021-01-01       81\n",
      "2022-01-01       20\n",
      "2023-01-01        3\n",
      "2026-01-01        1\n",
      "2024-01-01        1\n",
      "2027-01-01        1\n",
      "2025-01-01        1\n",
      "2115-01-01        1\n",
      "Name: start_year, dtype: int64\n",
      "***************************************************\n",
      "\n",
      "0 days 01:27:00    29828\n",
      "0 days 01:30:00     6970\n",
      "0 days 01:20:00     3414\n",
      "0 days 01:25:00     2846\n",
      "0 days 01:40:00     2602\n",
      "                   ...  \n",
      "2 days 00:25:00        1\n",
      "0 days 13:28:00        1\n",
      "0 days 06:19:00        1\n",
      "0 days 04:36:00        1\n",
      "0 days 05:56:00        1\n",
      "Name: runtime_minutes, Length: 361, dtype: int64\n",
      "***************************************************\n",
      "\n",
      "Documentary                 31941\n",
      "Drama                       21085\n",
      "Comedy                       9093\n",
      "Horror                       4317\n",
      "Comedy,Drama                 3480\n",
      "                            ...  \n",
      "Biography,Family,Mystery        1\n",
      "Comedy,Romance,Short            1\n",
      "Documentary,Mystery,War         1\n",
      "Comedy,Short                    1\n",
      "Horror,Music,Mystery            1\n",
      "Name: genres, Length: 1082, dtype: int64\n",
      "***************************************************\n",
      "\n"
     ]
    }
   ],
   "source": [
    "# Checking for placeholders and outliers by calling the check_placeholders() function\n",
    "\n",
    "check_placeholders(title_basics)\n",
    "\n",
    "    #Observations:\n",
    "        # The data has no placeholders\n",
    "        # The data has some outliers in the 'start-year' column. \n",
    "        # Some years are in the future."
   ]
  },
  {
   "cell_type": "markdown",
   "metadata": {},
   "source": [
    "- Observations:\n",
    "   <ol type='i'><li>The data has no placeholders</li>\n",
    "    <li>The data has some outliers in the 'start-year' column. Some years are in the future.</li>\n",
    "   </ol>"
   ]
  },
  {
   "cell_type": "code",
   "execution_count": 47,
   "metadata": {},
   "outputs": [],
   "source": [
    "# Dropping all years that are greater than 2023\n",
    "\n",
    "title_basics = title_basics[title_basics['start_year'] <= '2022']"
   ]
  },
  {
   "cell_type": "code",
   "execution_count": 48,
   "metadata": {},
   "outputs": [
    {
     "name": "stdout",
     "output_type": "stream",
     "text": [
      "2017-01-01    16563\n",
      "2016-01-01    16099\n",
      "2018-01-01    16041\n",
      "2015-01-01    15330\n",
      "2014-01-01    14915\n",
      "2013-01-01    14116\n",
      "2012-01-01    13209\n",
      "2011-01-01    12316\n",
      "2010-01-01    11352\n",
      "2019-01-01     7979\n",
      "2020-01-01      896\n",
      "2021-01-01       81\n",
      "2022-01-01       20\n",
      "Name: start_year, dtype: int64\n"
     ]
    }
   ],
   "source": [
    "# Verifying that the years past 2022 have been removed\n",
    "\n",
    "print(title_basics['start_year'].value_counts())"
   ]
  },
  {
   "cell_type": "markdown",
   "metadata": {},
   "source": [
    "* #### **Flattening the data in the genre column**"
   ]
  },
  {
   "cell_type": "code",
   "execution_count": 49,
   "metadata": {},
   "outputs": [
    {
     "data": {
      "text/html": [
       "<div>\n",
       "<style scoped>\n",
       "    .dataframe tbody tr th:only-of-type {\n",
       "        vertical-align: middle;\n",
       "    }\n",
       "\n",
       "    .dataframe tbody tr th {\n",
       "        vertical-align: top;\n",
       "    }\n",
       "\n",
       "    .dataframe thead th {\n",
       "        text-align: right;\n",
       "    }\n",
       "</style>\n",
       "<table border=\"1\" class=\"dataframe\">\n",
       "  <thead>\n",
       "    <tr style=\"text-align: right;\">\n",
       "      <th></th>\n",
       "      <th>tconst</th>\n",
       "      <th>primary_title</th>\n",
       "      <th>original_title</th>\n",
       "      <th>start_year</th>\n",
       "      <th>runtime_minutes</th>\n",
       "      <th>genres</th>\n",
       "    </tr>\n",
       "  </thead>\n",
       "  <tbody>\n",
       "    <tr>\n",
       "      <th>0</th>\n",
       "      <td>tt0063540</td>\n",
       "      <td>Sunghursh</td>\n",
       "      <td>Sunghursh</td>\n",
       "      <td>2013-01-01</td>\n",
       "      <td>0 days 02:55:00</td>\n",
       "      <td>Action</td>\n",
       "    </tr>\n",
       "    <tr>\n",
       "      <th>0</th>\n",
       "      <td>tt0063540</td>\n",
       "      <td>Sunghursh</td>\n",
       "      <td>Sunghursh</td>\n",
       "      <td>2013-01-01</td>\n",
       "      <td>0 days 02:55:00</td>\n",
       "      <td>Crime</td>\n",
       "    </tr>\n",
       "    <tr>\n",
       "      <th>0</th>\n",
       "      <td>tt0063540</td>\n",
       "      <td>Sunghursh</td>\n",
       "      <td>Sunghursh</td>\n",
       "      <td>2013-01-01</td>\n",
       "      <td>0 days 02:55:00</td>\n",
       "      <td>Drama</td>\n",
       "    </tr>\n",
       "    <tr>\n",
       "      <th>131535</th>\n",
       "      <td>tt8185502</td>\n",
       "      <td>Shadow Men</td>\n",
       "      <td>Shadow Men</td>\n",
       "      <td>2017-01-01</td>\n",
       "      <td>0 days 01:31:00</td>\n",
       "      <td>Documentary</td>\n",
       "    </tr>\n",
       "    <tr>\n",
       "      <th>78511</th>\n",
       "      <td>tt4507654</td>\n",
       "      <td>Angkar va vous recevoir</td>\n",
       "      <td>Angkar va vous recevoir</td>\n",
       "      <td>2015-01-01</td>\n",
       "      <td>0 days 00:52:00</td>\n",
       "      <td>Documentary</td>\n",
       "    </tr>\n",
       "    <tr>\n",
       "      <th>78511</th>\n",
       "      <td>tt4507654</td>\n",
       "      <td>Angkar va vous recevoir</td>\n",
       "      <td>Angkar va vous recevoir</td>\n",
       "      <td>2015-01-01</td>\n",
       "      <td>0 days 00:52:00</td>\n",
       "      <td>Drama</td>\n",
       "    </tr>\n",
       "    <tr>\n",
       "      <th>78511</th>\n",
       "      <td>tt4507654</td>\n",
       "      <td>Angkar va vous recevoir</td>\n",
       "      <td>Angkar va vous recevoir</td>\n",
       "      <td>2015-01-01</td>\n",
       "      <td>0 days 00:52:00</td>\n",
       "      <td>History</td>\n",
       "    </tr>\n",
       "  </tbody>\n",
       "</table>\n",
       "</div>"
      ],
      "text/plain": [
       "           tconst            primary_title           original_title  \\\n",
       "0       tt0063540                Sunghursh                Sunghursh   \n",
       "0       tt0063540                Sunghursh                Sunghursh   \n",
       "0       tt0063540                Sunghursh                Sunghursh   \n",
       "131535  tt8185502               Shadow Men               Shadow Men   \n",
       "78511   tt4507654  Angkar va vous recevoir  Angkar va vous recevoir   \n",
       "78511   tt4507654  Angkar va vous recevoir  Angkar va vous recevoir   \n",
       "78511   tt4507654  Angkar va vous recevoir  Angkar va vous recevoir   \n",
       "\n",
       "       start_year runtime_minutes       genres  \n",
       "0      2013-01-01 0 days 02:55:00       Action  \n",
       "0      2013-01-01 0 days 02:55:00        Crime  \n",
       "0      2013-01-01 0 days 02:55:00        Drama  \n",
       "131535 2017-01-01 0 days 01:31:00  Documentary  \n",
       "78511  2015-01-01 0 days 00:52:00  Documentary  \n",
       "78511  2015-01-01 0 days 00:52:00        Drama  \n",
       "78511  2015-01-01 0 days 00:52:00      History  "
      ]
     },
     "execution_count": 49,
     "metadata": {},
     "output_type": "execute_result"
    }
   ],
   "source": [
    "# splitting the genre categories into a list of strings\n",
    "title_basics['genres'] = title_basics['genres'].str.split(',')\n",
    "\n",
    "# Transforming each element of the list of genre categories into a row, replicating index values.\n",
    "title_basics = title_basics.explode('genres')\n",
    "\n",
    "# Previewing the first 7 rows\n",
    "title_basics.head(7)"
   ]
  },
  {
   "cell_type": "markdown",
   "metadata": {},
   "source": [
    "> ### **3. Cleaning *ratings* dataframe**"
   ]
  },
  {
   "cell_type": "markdown",
   "metadata": {},
   "source": [
    "* #### **Identifying duplicates**"
   ]
  },
  {
   "cell_type": "code",
   "execution_count": 50,
   "metadata": {},
   "outputs": [
    {
     "data": {
      "text/plain": [
       "0"
      ]
     },
     "execution_count": 50,
     "metadata": {},
     "output_type": "execute_result"
    }
   ],
   "source": [
    "# Finding duplicates using the 'tcont' column\n",
    "\n",
    "ratings.duplicated(subset='tconst').sum()\n",
    "\n",
    "    # The data has no duplicates"
   ]
  },
  {
   "cell_type": "markdown",
   "metadata": {},
   "source": [
    "* #### **Identifying missing values**"
   ]
  },
  {
   "cell_type": "code",
   "execution_count": 51,
   "metadata": {},
   "outputs": [
    {
     "data": {
      "text/plain": [
       "{}"
      ]
     },
     "execution_count": 51,
     "metadata": {},
     "output_type": "execute_result"
    }
   ],
   "source": [
    "# Checking the missing values by calling the column_missing_values() function\n",
    "column_missing_values(ratings)\n",
    "\n",
    "    # The data has no missing values"
   ]
  },
  {
   "cell_type": "markdown",
   "metadata": {},
   "source": [
    "* #### **Checking the data types**"
   ]
  },
  {
   "cell_type": "code",
   "execution_count": 52,
   "metadata": {},
   "outputs": [
    {
     "data": {
      "text/plain": [
       "tconst            object\n",
       "averagerating    float64\n",
       "numvotes           int64\n",
       "dtype: object"
      ]
     },
     "execution_count": 52,
     "metadata": {},
     "output_type": "execute_result"
    }
   ],
   "source": [
    "ratings.dtypes\n",
    "    # All columns have the correct data type"
   ]
  },
  {
   "cell_type": "markdown",
   "metadata": {},
   "source": [
    "* #### **Checking for placeholders and Outliers in the dataframe**"
   ]
  },
  {
   "cell_type": "code",
   "execution_count": 53,
   "metadata": {},
   "outputs": [
    {
     "name": "stdout",
     "output_type": "stream",
     "text": [
      "tt4324048    1\n",
      "tt5634960    1\n",
      "tt3302170    1\n",
      "tt5980818    1\n",
      "tt1584131    1\n",
      "            ..\n",
      "tt8422594    1\n",
      "tt8359816    1\n",
      "tt6243826    1\n",
      "tt4057956    1\n",
      "tt1815769    1\n",
      "Name: tconst, Length: 73856, dtype: int64\n",
      "***************************************************\n",
      "\n",
      "7.0     2262\n",
      "6.6     2251\n",
      "7.2     2249\n",
      "6.8     2239\n",
      "6.5     2221\n",
      "        ... \n",
      "9.6       18\n",
      "10.0      16\n",
      "9.8       15\n",
      "9.7       12\n",
      "9.9        5\n",
      "Name: averagerating, Length: 91, dtype: int64\n",
      "***************************************************\n",
      "\n",
      "6        2875\n",
      "5        2699\n",
      "7        2476\n",
      "8        2167\n",
      "9        1929\n",
      "         ... \n",
      "18286       1\n",
      "16289       1\n",
      "1958        1\n",
      "4007        1\n",
      "4098        1\n",
      "Name: numvotes, Length: 7349, dtype: int64\n",
      "***************************************************\n",
      "\n"
     ]
    }
   ],
   "source": [
    "# Checking for placeholders and outliers by calling the check_placeholders() function\n",
    "\n",
    "check_placeholders(ratings)"
   ]
  },
  {
   "cell_type": "markdown",
   "metadata": {},
   "source": [
    "> #### **4. Merging Movie_gross and Title_basics DataFrames**"
   ]
  },
  {
   "cell_type": "code",
   "execution_count": 54,
   "metadata": {},
   "outputs": [
    {
     "data": {
      "text/html": [
       "<div>\n",
       "<style scoped>\n",
       "    .dataframe tbody tr th:only-of-type {\n",
       "        vertical-align: middle;\n",
       "    }\n",
       "\n",
       "    .dataframe tbody tr th {\n",
       "        vertical-align: top;\n",
       "    }\n",
       "\n",
       "    .dataframe thead th {\n",
       "        text-align: right;\n",
       "    }\n",
       "</style>\n",
       "<table border=\"1\" class=\"dataframe\">\n",
       "  <thead>\n",
       "    <tr style=\"text-align: right;\">\n",
       "      <th></th>\n",
       "      <th>title</th>\n",
       "      <th>studio</th>\n",
       "      <th>domestic_gross</th>\n",
       "      <th>foreign_gross</th>\n",
       "      <th>year</th>\n",
       "      <th>total_gross</th>\n",
       "      <th>tconst</th>\n",
       "      <th>primary_title</th>\n",
       "      <th>original_title</th>\n",
       "      <th>start_year</th>\n",
       "      <th>runtime_minutes</th>\n",
       "      <th>genres</th>\n",
       "    </tr>\n",
       "  </thead>\n",
       "  <tbody>\n",
       "    <tr>\n",
       "      <th>0</th>\n",
       "      <td>Toy Story 3</td>\n",
       "      <td>BV</td>\n",
       "      <td>415000000.0</td>\n",
       "      <td>652000000.0</td>\n",
       "      <td>2010-01-01</td>\n",
       "      <td>1.067000e+09</td>\n",
       "      <td>tt0435761</td>\n",
       "      <td>Toy Story 3</td>\n",
       "      <td>Toy Story 3</td>\n",
       "      <td>2010-01-01</td>\n",
       "      <td>0 days 01:43:00</td>\n",
       "      <td>Adventure</td>\n",
       "    </tr>\n",
       "    <tr>\n",
       "      <th>1</th>\n",
       "      <td>Toy Story 3</td>\n",
       "      <td>BV</td>\n",
       "      <td>415000000.0</td>\n",
       "      <td>652000000.0</td>\n",
       "      <td>2010-01-01</td>\n",
       "      <td>1.067000e+09</td>\n",
       "      <td>tt0435761</td>\n",
       "      <td>Toy Story 3</td>\n",
       "      <td>Toy Story 3</td>\n",
       "      <td>2010-01-01</td>\n",
       "      <td>0 days 01:43:00</td>\n",
       "      <td>Animation</td>\n",
       "    </tr>\n",
       "    <tr>\n",
       "      <th>2</th>\n",
       "      <td>Toy Story 3</td>\n",
       "      <td>BV</td>\n",
       "      <td>415000000.0</td>\n",
       "      <td>652000000.0</td>\n",
       "      <td>2010-01-01</td>\n",
       "      <td>1.067000e+09</td>\n",
       "      <td>tt0435761</td>\n",
       "      <td>Toy Story 3</td>\n",
       "      <td>Toy Story 3</td>\n",
       "      <td>2010-01-01</td>\n",
       "      <td>0 days 01:43:00</td>\n",
       "      <td>Comedy</td>\n",
       "    </tr>\n",
       "    <tr>\n",
       "      <th>3</th>\n",
       "      <td>Inception</td>\n",
       "      <td>WB</td>\n",
       "      <td>292600000.0</td>\n",
       "      <td>535700000.0</td>\n",
       "      <td>2010-01-01</td>\n",
       "      <td>8.283000e+08</td>\n",
       "      <td>tt1375666</td>\n",
       "      <td>Inception</td>\n",
       "      <td>Inception</td>\n",
       "      <td>2010-01-01</td>\n",
       "      <td>0 days 02:28:00</td>\n",
       "      <td>Action</td>\n",
       "    </tr>\n",
       "    <tr>\n",
       "      <th>4</th>\n",
       "      <td>Inception</td>\n",
       "      <td>WB</td>\n",
       "      <td>292600000.0</td>\n",
       "      <td>535700000.0</td>\n",
       "      <td>2010-01-01</td>\n",
       "      <td>8.283000e+08</td>\n",
       "      <td>tt1375666</td>\n",
       "      <td>Inception</td>\n",
       "      <td>Inception</td>\n",
       "      <td>2010-01-01</td>\n",
       "      <td>0 days 02:28:00</td>\n",
       "      <td>Adventure</td>\n",
       "    </tr>\n",
       "    <tr>\n",
       "      <th>...</th>\n",
       "      <td>...</td>\n",
       "      <td>...</td>\n",
       "      <td>...</td>\n",
       "      <td>...</td>\n",
       "      <td>...</td>\n",
       "      <td>...</td>\n",
       "      <td>...</td>\n",
       "      <td>...</td>\n",
       "      <td>...</td>\n",
       "      <td>...</td>\n",
       "      <td>...</td>\n",
       "      <td>...</td>\n",
       "    </tr>\n",
       "    <tr>\n",
       "      <th>7196</th>\n",
       "      <td>Beauty and the Dogs</td>\n",
       "      <td>Osci.</td>\n",
       "      <td>8900.0</td>\n",
       "      <td>0.0</td>\n",
       "      <td>2018-01-01</td>\n",
       "      <td>8.900000e+03</td>\n",
       "      <td>tt6776572</td>\n",
       "      <td>Beauty and the Dogs</td>\n",
       "      <td>Aala Kaf Ifrit</td>\n",
       "      <td>2017-01-01</td>\n",
       "      <td>0 days 01:40:00</td>\n",
       "      <td>Thriller</td>\n",
       "    </tr>\n",
       "    <tr>\n",
       "      <th>7197</th>\n",
       "      <td>The Quake</td>\n",
       "      <td>Magn.</td>\n",
       "      <td>6200.0</td>\n",
       "      <td>0.0</td>\n",
       "      <td>2018-01-01</td>\n",
       "      <td>6.200000e+03</td>\n",
       "      <td>tt6523720</td>\n",
       "      <td>The Quake</td>\n",
       "      <td>Skjelvet</td>\n",
       "      <td>2018-01-01</td>\n",
       "      <td>0 days 01:46:00</td>\n",
       "      <td>Action</td>\n",
       "    </tr>\n",
       "    <tr>\n",
       "      <th>7198</th>\n",
       "      <td>The Quake</td>\n",
       "      <td>Magn.</td>\n",
       "      <td>6200.0</td>\n",
       "      <td>0.0</td>\n",
       "      <td>2018-01-01</td>\n",
       "      <td>6.200000e+03</td>\n",
       "      <td>tt6523720</td>\n",
       "      <td>The Quake</td>\n",
       "      <td>Skjelvet</td>\n",
       "      <td>2018-01-01</td>\n",
       "      <td>0 days 01:46:00</td>\n",
       "      <td>Drama</td>\n",
       "    </tr>\n",
       "    <tr>\n",
       "      <th>7199</th>\n",
       "      <td>The Quake</td>\n",
       "      <td>Magn.</td>\n",
       "      <td>6200.0</td>\n",
       "      <td>0.0</td>\n",
       "      <td>2018-01-01</td>\n",
       "      <td>6.200000e+03</td>\n",
       "      <td>tt6523720</td>\n",
       "      <td>The Quake</td>\n",
       "      <td>Skjelvet</td>\n",
       "      <td>2018-01-01</td>\n",
       "      <td>0 days 01:46:00</td>\n",
       "      <td>Thriller</td>\n",
       "    </tr>\n",
       "    <tr>\n",
       "      <th>7200</th>\n",
       "      <td>An Actor Prepares</td>\n",
       "      <td>Grav.</td>\n",
       "      <td>1700.0</td>\n",
       "      <td>0.0</td>\n",
       "      <td>2018-01-01</td>\n",
       "      <td>1.700000e+03</td>\n",
       "      <td>tt5718046</td>\n",
       "      <td>An Actor Prepares</td>\n",
       "      <td>An Actor Prepares</td>\n",
       "      <td>2018-01-01</td>\n",
       "      <td>0 days 01:37:00</td>\n",
       "      <td>Comedy</td>\n",
       "    </tr>\n",
       "  </tbody>\n",
       "</table>\n",
       "<p>7201 rows × 12 columns</p>\n",
       "</div>"
      ],
      "text/plain": [
       "                    title studio  domestic_gross  foreign_gross       year  \\\n",
       "0             Toy Story 3     BV     415000000.0    652000000.0 2010-01-01   \n",
       "1             Toy Story 3     BV     415000000.0    652000000.0 2010-01-01   \n",
       "2             Toy Story 3     BV     415000000.0    652000000.0 2010-01-01   \n",
       "3               Inception     WB     292600000.0    535700000.0 2010-01-01   \n",
       "4               Inception     WB     292600000.0    535700000.0 2010-01-01   \n",
       "...                   ...    ...             ...            ...        ...   \n",
       "7196  Beauty and the Dogs  Osci.          8900.0            0.0 2018-01-01   \n",
       "7197            The Quake  Magn.          6200.0            0.0 2018-01-01   \n",
       "7198            The Quake  Magn.          6200.0            0.0 2018-01-01   \n",
       "7199            The Quake  Magn.          6200.0            0.0 2018-01-01   \n",
       "7200    An Actor Prepares  Grav.          1700.0            0.0 2018-01-01   \n",
       "\n",
       "       total_gross     tconst        primary_title     original_title  \\\n",
       "0     1.067000e+09  tt0435761          Toy Story 3        Toy Story 3   \n",
       "1     1.067000e+09  tt0435761          Toy Story 3        Toy Story 3   \n",
       "2     1.067000e+09  tt0435761          Toy Story 3        Toy Story 3   \n",
       "3     8.283000e+08  tt1375666            Inception          Inception   \n",
       "4     8.283000e+08  tt1375666            Inception          Inception   \n",
       "...            ...        ...                  ...                ...   \n",
       "7196  8.900000e+03  tt6776572  Beauty and the Dogs     Aala Kaf Ifrit   \n",
       "7197  6.200000e+03  tt6523720            The Quake           Skjelvet   \n",
       "7198  6.200000e+03  tt6523720            The Quake           Skjelvet   \n",
       "7199  6.200000e+03  tt6523720            The Quake           Skjelvet   \n",
       "7200  1.700000e+03  tt5718046    An Actor Prepares  An Actor Prepares   \n",
       "\n",
       "     start_year runtime_minutes     genres  \n",
       "0    2010-01-01 0 days 01:43:00  Adventure  \n",
       "1    2010-01-01 0 days 01:43:00  Animation  \n",
       "2    2010-01-01 0 days 01:43:00     Comedy  \n",
       "3    2010-01-01 0 days 02:28:00     Action  \n",
       "4    2010-01-01 0 days 02:28:00  Adventure  \n",
       "...         ...             ...        ...  \n",
       "7196 2017-01-01 0 days 01:40:00   Thriller  \n",
       "7197 2018-01-01 0 days 01:46:00     Action  \n",
       "7198 2018-01-01 0 days 01:46:00      Drama  \n",
       "7199 2018-01-01 0 days 01:46:00   Thriller  \n",
       "7200 2018-01-01 0 days 01:37:00     Comedy  \n",
       "\n",
       "[7201 rows x 12 columns]"
      ]
     },
     "execution_count": 54,
     "metadata": {},
     "output_type": "execute_result"
    }
   ],
   "source": [
    "movie_gross_title_basics = movie_gross.merge(title_basics,left_on='title', right_on='primary_title')\n",
    "movie_gross_title_basics"
   ]
  },
  {
   "cell_type": "markdown",
   "metadata": {},
   "source": [
    "> #### **5. Merging Title_basics and ratings DataFrames**"
   ]
  },
  {
   "cell_type": "code",
   "execution_count": 55,
   "metadata": {},
   "outputs": [
    {
     "data": {
      "text/html": [
       "<div>\n",
       "<style scoped>\n",
       "    .dataframe tbody tr th:only-of-type {\n",
       "        vertical-align: middle;\n",
       "    }\n",
       "\n",
       "    .dataframe tbody tr th {\n",
       "        vertical-align: top;\n",
       "    }\n",
       "\n",
       "    .dataframe thead th {\n",
       "        text-align: right;\n",
       "    }\n",
       "</style>\n",
       "<table border=\"1\" class=\"dataframe\">\n",
       "  <thead>\n",
       "    <tr style=\"text-align: right;\">\n",
       "      <th></th>\n",
       "      <th>tconst</th>\n",
       "      <th>primary_title</th>\n",
       "      <th>original_title</th>\n",
       "      <th>start_year</th>\n",
       "      <th>runtime_minutes</th>\n",
       "      <th>genres</th>\n",
       "      <th>averagerating</th>\n",
       "      <th>numvotes</th>\n",
       "    </tr>\n",
       "  </thead>\n",
       "  <tbody>\n",
       "    <tr>\n",
       "      <th>0</th>\n",
       "      <td>tt0063540</td>\n",
       "      <td>Sunghursh</td>\n",
       "      <td>Sunghursh</td>\n",
       "      <td>2013-01-01</td>\n",
       "      <td>0 days 02:55:00</td>\n",
       "      <td>Action</td>\n",
       "      <td>7.0</td>\n",
       "      <td>77</td>\n",
       "    </tr>\n",
       "    <tr>\n",
       "      <th>1</th>\n",
       "      <td>tt0063540</td>\n",
       "      <td>Sunghursh</td>\n",
       "      <td>Sunghursh</td>\n",
       "      <td>2013-01-01</td>\n",
       "      <td>0 days 02:55:00</td>\n",
       "      <td>Crime</td>\n",
       "      <td>7.0</td>\n",
       "      <td>77</td>\n",
       "    </tr>\n",
       "    <tr>\n",
       "      <th>2</th>\n",
       "      <td>tt0063540</td>\n",
       "      <td>Sunghursh</td>\n",
       "      <td>Sunghursh</td>\n",
       "      <td>2013-01-01</td>\n",
       "      <td>0 days 02:55:00</td>\n",
       "      <td>Drama</td>\n",
       "      <td>7.0</td>\n",
       "      <td>77</td>\n",
       "    </tr>\n",
       "    <tr>\n",
       "      <th>3</th>\n",
       "      <td>tt4507654</td>\n",
       "      <td>Angkar va vous recevoir</td>\n",
       "      <td>Angkar va vous recevoir</td>\n",
       "      <td>2015-01-01</td>\n",
       "      <td>0 days 00:52:00</td>\n",
       "      <td>Documentary</td>\n",
       "      <td>8.1</td>\n",
       "      <td>9</td>\n",
       "    </tr>\n",
       "    <tr>\n",
       "      <th>4</th>\n",
       "      <td>tt4507654</td>\n",
       "      <td>Angkar va vous recevoir</td>\n",
       "      <td>Angkar va vous recevoir</td>\n",
       "      <td>2015-01-01</td>\n",
       "      <td>0 days 00:52:00</td>\n",
       "      <td>Drama</td>\n",
       "      <td>8.1</td>\n",
       "      <td>9</td>\n",
       "    </tr>\n",
       "    <tr>\n",
       "      <th>...</th>\n",
       "      <td>...</td>\n",
       "      <td>...</td>\n",
       "      <td>...</td>\n",
       "      <td>...</td>\n",
       "      <td>...</td>\n",
       "      <td>...</td>\n",
       "      <td>...</td>\n",
       "      <td>...</td>\n",
       "    </tr>\n",
       "    <tr>\n",
       "      <th>126900</th>\n",
       "      <td>tt5290196</td>\n",
       "      <td>American Curious</td>\n",
       "      <td>American Curious</td>\n",
       "      <td>2018-01-01</td>\n",
       "      <td>0 days 01:27:00</td>\n",
       "      <td>Drama</td>\n",
       "      <td>6.6</td>\n",
       "      <td>67</td>\n",
       "    </tr>\n",
       "    <tr>\n",
       "      <th>126901</th>\n",
       "      <td>tt5290196</td>\n",
       "      <td>American Curious</td>\n",
       "      <td>American Curious</td>\n",
       "      <td>2018-01-01</td>\n",
       "      <td>0 days 01:27:00</td>\n",
       "      <td>Romance</td>\n",
       "      <td>6.6</td>\n",
       "      <td>67</td>\n",
       "    </tr>\n",
       "    <tr>\n",
       "      <th>126902</th>\n",
       "      <td>tt4213694</td>\n",
       "      <td>Disha</td>\n",
       "      <td>Disha</td>\n",
       "      <td>2015-01-01</td>\n",
       "      <td>0 days 01:27:00</td>\n",
       "      <td>Drama</td>\n",
       "      <td>7.1</td>\n",
       "      <td>17</td>\n",
       "    </tr>\n",
       "    <tr>\n",
       "      <th>126903</th>\n",
       "      <td>tt4213694</td>\n",
       "      <td>Disha</td>\n",
       "      <td>Disha</td>\n",
       "      <td>2015-01-01</td>\n",
       "      <td>0 days 01:27:00</td>\n",
       "      <td>Mystery</td>\n",
       "      <td>7.1</td>\n",
       "      <td>17</td>\n",
       "    </tr>\n",
       "    <tr>\n",
       "      <th>126904</th>\n",
       "      <td>tt4213694</td>\n",
       "      <td>Disha</td>\n",
       "      <td>Disha</td>\n",
       "      <td>2015-01-01</td>\n",
       "      <td>0 days 01:27:00</td>\n",
       "      <td>Romance</td>\n",
       "      <td>7.1</td>\n",
       "      <td>17</td>\n",
       "    </tr>\n",
       "  </tbody>\n",
       "</table>\n",
       "<p>126905 rows × 8 columns</p>\n",
       "</div>"
      ],
      "text/plain": [
       "           tconst            primary_title           original_title  \\\n",
       "0       tt0063540                Sunghursh                Sunghursh   \n",
       "1       tt0063540                Sunghursh                Sunghursh   \n",
       "2       tt0063540                Sunghursh                Sunghursh   \n",
       "3       tt4507654  Angkar va vous recevoir  Angkar va vous recevoir   \n",
       "4       tt4507654  Angkar va vous recevoir  Angkar va vous recevoir   \n",
       "...           ...                      ...                      ...   \n",
       "126900  tt5290196         American Curious         American Curious   \n",
       "126901  tt5290196         American Curious         American Curious   \n",
       "126902  tt4213694                    Disha                    Disha   \n",
       "126903  tt4213694                    Disha                    Disha   \n",
       "126904  tt4213694                    Disha                    Disha   \n",
       "\n",
       "       start_year runtime_minutes       genres  averagerating  numvotes  \n",
       "0      2013-01-01 0 days 02:55:00       Action            7.0        77  \n",
       "1      2013-01-01 0 days 02:55:00        Crime            7.0        77  \n",
       "2      2013-01-01 0 days 02:55:00        Drama            7.0        77  \n",
       "3      2015-01-01 0 days 00:52:00  Documentary            8.1         9  \n",
       "4      2015-01-01 0 days 00:52:00        Drama            8.1         9  \n",
       "...           ...             ...          ...            ...       ...  \n",
       "126900 2018-01-01 0 days 01:27:00        Drama            6.6        67  \n",
       "126901 2018-01-01 0 days 01:27:00      Romance            6.6        67  \n",
       "126902 2015-01-01 0 days 01:27:00        Drama            7.1        17  \n",
       "126903 2015-01-01 0 days 01:27:00      Mystery            7.1        17  \n",
       "126904 2015-01-01 0 days 01:27:00      Romance            7.1        17  \n",
       "\n",
       "[126905 rows x 8 columns]"
      ]
     },
     "execution_count": 55,
     "metadata": {},
     "output_type": "execute_result"
    }
   ],
   "source": [
    "title_basics_ratings = title_basics.merge(ratings, on='tconst')\n",
    "title_basics_ratings"
   ]
  },
  {
   "cell_type": "markdown",
   "metadata": {},
   "source": [
    "* ##### **Dropping irrelevant columns and columns which represent the same variable in the merged dataframes**"
   ]
  },
  {
   "cell_type": "markdown",
   "metadata": {},
   "source": [
    ">  * ##### **Movie_gross_title_basics dataframe**"
   ]
  },
  {
   "cell_type": "code",
   "execution_count": 56,
   "metadata": {},
   "outputs": [
    {
     "data": {
      "text/html": [
       "<div>\n",
       "<style scoped>\n",
       "    .dataframe tbody tr th:only-of-type {\n",
       "        vertical-align: middle;\n",
       "    }\n",
       "\n",
       "    .dataframe tbody tr th {\n",
       "        vertical-align: top;\n",
       "    }\n",
       "\n",
       "    .dataframe thead th {\n",
       "        text-align: right;\n",
       "    }\n",
       "</style>\n",
       "<table border=\"1\" class=\"dataframe\">\n",
       "  <thead>\n",
       "    <tr style=\"text-align: right;\">\n",
       "      <th></th>\n",
       "      <th>studio</th>\n",
       "      <th>domestic_gross</th>\n",
       "      <th>foreign_gross</th>\n",
       "      <th>total_gross</th>\n",
       "      <th>start_year</th>\n",
       "      <th>runtime_minutes</th>\n",
       "      <th>genres</th>\n",
       "    </tr>\n",
       "  </thead>\n",
       "  <tbody>\n",
       "    <tr>\n",
       "      <th>0</th>\n",
       "      <td>BV</td>\n",
       "      <td>415000000.0</td>\n",
       "      <td>652000000.0</td>\n",
       "      <td>1.067000e+09</td>\n",
       "      <td>2010-01-01</td>\n",
       "      <td>0 days 01:43:00</td>\n",
       "      <td>Adventure</td>\n",
       "    </tr>\n",
       "    <tr>\n",
       "      <th>1</th>\n",
       "      <td>BV</td>\n",
       "      <td>415000000.0</td>\n",
       "      <td>652000000.0</td>\n",
       "      <td>1.067000e+09</td>\n",
       "      <td>2010-01-01</td>\n",
       "      <td>0 days 01:43:00</td>\n",
       "      <td>Animation</td>\n",
       "    </tr>\n",
       "    <tr>\n",
       "      <th>2</th>\n",
       "      <td>BV</td>\n",
       "      <td>415000000.0</td>\n",
       "      <td>652000000.0</td>\n",
       "      <td>1.067000e+09</td>\n",
       "      <td>2010-01-01</td>\n",
       "      <td>0 days 01:43:00</td>\n",
       "      <td>Comedy</td>\n",
       "    </tr>\n",
       "    <tr>\n",
       "      <th>3</th>\n",
       "      <td>WB</td>\n",
       "      <td>292600000.0</td>\n",
       "      <td>535700000.0</td>\n",
       "      <td>8.283000e+08</td>\n",
       "      <td>2010-01-01</td>\n",
       "      <td>0 days 02:28:00</td>\n",
       "      <td>Action</td>\n",
       "    </tr>\n",
       "    <tr>\n",
       "      <th>4</th>\n",
       "      <td>WB</td>\n",
       "      <td>292600000.0</td>\n",
       "      <td>535700000.0</td>\n",
       "      <td>8.283000e+08</td>\n",
       "      <td>2010-01-01</td>\n",
       "      <td>0 days 02:28:00</td>\n",
       "      <td>Adventure</td>\n",
       "    </tr>\n",
       "  </tbody>\n",
       "</table>\n",
       "</div>"
      ],
      "text/plain": [
       "  studio  domestic_gross  foreign_gross   total_gross start_year  \\\n",
       "0     BV     415000000.0    652000000.0  1.067000e+09 2010-01-01   \n",
       "1     BV     415000000.0    652000000.0  1.067000e+09 2010-01-01   \n",
       "2     BV     415000000.0    652000000.0  1.067000e+09 2010-01-01   \n",
       "3     WB     292600000.0    535700000.0  8.283000e+08 2010-01-01   \n",
       "4     WB     292600000.0    535700000.0  8.283000e+08 2010-01-01   \n",
       "\n",
       "  runtime_minutes     genres  \n",
       "0 0 days 01:43:00  Adventure  \n",
       "1 0 days 01:43:00  Animation  \n",
       "2 0 days 01:43:00     Comedy  \n",
       "3 0 days 02:28:00     Action  \n",
       "4 0 days 02:28:00  Adventure  "
      ]
     },
     "execution_count": 56,
     "metadata": {},
     "output_type": "execute_result"
    }
   ],
   "source": [
    "relevant_columns = ['studio', 'domestic_gross','foreign_gross', 'total_gross', 'start_year', 'runtime_minutes', 'genres']\n",
    "movie_gross_title_basics = movie_gross_title_basics[relevant_columns]\n",
    "movie_gross_title_basics.head()"
   ]
  },
  {
   "cell_type": "markdown",
   "metadata": {},
   "source": [
    "> * ##### **title_basics_ratings dataframe**"
   ]
  },
  {
   "cell_type": "code",
   "execution_count": 57,
   "metadata": {},
   "outputs": [
    {
     "data": {
      "text/html": [
       "<div>\n",
       "<style scoped>\n",
       "    .dataframe tbody tr th:only-of-type {\n",
       "        vertical-align: middle;\n",
       "    }\n",
       "\n",
       "    .dataframe tbody tr th {\n",
       "        vertical-align: top;\n",
       "    }\n",
       "\n",
       "    .dataframe thead th {\n",
       "        text-align: right;\n",
       "    }\n",
       "</style>\n",
       "<table border=\"1\" class=\"dataframe\">\n",
       "  <thead>\n",
       "    <tr style=\"text-align: right;\">\n",
       "      <th></th>\n",
       "      <th>start_year</th>\n",
       "      <th>runtime_minutes</th>\n",
       "      <th>genres</th>\n",
       "      <th>averagerating</th>\n",
       "      <th>numvotes</th>\n",
       "    </tr>\n",
       "  </thead>\n",
       "  <tbody>\n",
       "    <tr>\n",
       "      <th>0</th>\n",
       "      <td>2013-01-01</td>\n",
       "      <td>0 days 02:55:00</td>\n",
       "      <td>Action</td>\n",
       "      <td>7.0</td>\n",
       "      <td>77</td>\n",
       "    </tr>\n",
       "    <tr>\n",
       "      <th>1</th>\n",
       "      <td>2013-01-01</td>\n",
       "      <td>0 days 02:55:00</td>\n",
       "      <td>Crime</td>\n",
       "      <td>7.0</td>\n",
       "      <td>77</td>\n",
       "    </tr>\n",
       "    <tr>\n",
       "      <th>2</th>\n",
       "      <td>2013-01-01</td>\n",
       "      <td>0 days 02:55:00</td>\n",
       "      <td>Drama</td>\n",
       "      <td>7.0</td>\n",
       "      <td>77</td>\n",
       "    </tr>\n",
       "    <tr>\n",
       "      <th>3</th>\n",
       "      <td>2015-01-01</td>\n",
       "      <td>0 days 00:52:00</td>\n",
       "      <td>Documentary</td>\n",
       "      <td>8.1</td>\n",
       "      <td>9</td>\n",
       "    </tr>\n",
       "    <tr>\n",
       "      <th>4</th>\n",
       "      <td>2015-01-01</td>\n",
       "      <td>0 days 00:52:00</td>\n",
       "      <td>Drama</td>\n",
       "      <td>8.1</td>\n",
       "      <td>9</td>\n",
       "    </tr>\n",
       "  </tbody>\n",
       "</table>\n",
       "</div>"
      ],
      "text/plain": [
       "  start_year runtime_minutes       genres  averagerating  numvotes\n",
       "0 2013-01-01 0 days 02:55:00       Action            7.0        77\n",
       "1 2013-01-01 0 days 02:55:00        Crime            7.0        77\n",
       "2 2013-01-01 0 days 02:55:00        Drama            7.0        77\n",
       "3 2015-01-01 0 days 00:52:00  Documentary            8.1         9\n",
       "4 2015-01-01 0 days 00:52:00        Drama            8.1         9"
      ]
     },
     "execution_count": 57,
     "metadata": {},
     "output_type": "execute_result"
    }
   ],
   "source": [
    "relevant_columns = ['start_year', 'runtime_minutes', 'genres', 'averagerating', 'numvotes']\n",
    "title_basics_ratings = title_basics_ratings[relevant_columns]\n",
    "title_basics_ratings.head()"
   ]
  },
  {
   "cell_type": "markdown",
   "metadata": {},
   "source": [
    "## **Data Visualization**"
   ]
  },
  {
   "cell_type": "markdown",
   "metadata": {},
   "source": [
    " ### **1. Total box office revenue over the years**"
   ]
  },
  {
   "cell_type": "code",
   "execution_count": 58,
   "metadata": {},
   "outputs": [
    {
     "data": {
      "image/png": "[encoded data removed]",
      "text/plain": [
       "<Figure size 864x432 with 1 Axes>"
      ]
     },
     "metadata": {},
     "output_type": "display_data"
    }
   ],
   "source": [
    "sns.set_context('notebook')\n",
    "sns.set_style('whitegrid')\n",
    "fig, ax =plt.subplots(figsize=(12,6))\n",
    "sns.lineplot(data=movie_gross_title_basics , x='start_year', y='total_gross', ax=ax).set(\n",
    "                    xlabel = \"Year movies premiered\",\n",
    "                    ylabel = \"Total revenue Earned\",\n",
    "                    title = \"Total box office revenue over the years\"\n",
    ");\n",
    "fig.savefig('images/gross_years')"
   ]
  },
  {
   "cell_type": "markdown",
   "metadata": {},
   "source": [
    "**_Observations_**:\n",
    " <ul type='square'> \n",
    "    <li>Movies made a lot of money in 2018. </li>\n",
    "    <li>There has been a sharp decrease in total gross earned by movies since 2018, with the lowest year being 2020. </br>\n",
    "        This makes sense since streaming platforms started gaining a lot of hype in 2018, leading to lot of people preferring to stream movies on platforms such as Netflix hence the decline in box office revenues.</li>\n",
    " </ul>"
   ]
  },
  {
   "cell_type": "code",
   "execution_count": 59,
   "metadata": {},
   "outputs": [
    {
     "data": {
      "image/png": "[encoded data removed]",
      "text/plain": [
       "<Figure size 864x432 with 1 Axes>"
      ]
     },
     "metadata": {},
     "output_type": "display_data"
    }
   ],
   "source": [
    "fig, ax = plt.subplots(figsize=(12,6))\n",
    "sns.lineplot(data=movie_gross_title_basics , x='start_year', y='domestic_gross', label='domestic gross' ,ax=ax)\n",
    "sns.lineplot(data=movie_gross_title_basics , x='start_year', y='foreign_gross',label='foreign gross',ax=ax)\n",
    "ax.set_xlabel(\"Year movies premiered\")\n",
    "ax.set_ylabel(\"Foreign or Domestic Gross Earned in US dollars\")\n",
    "ax.set_title(\"foreign Vs Domestic gross over the years\");\n",
    "fig.savefig('images/foreign_Vs_Domestic')"
   ]
  },
  {
   "cell_type": "markdown",
   "metadata": {},
   "source": [
    "**_Observations_**:\n",
    " <ul type='square'> \n",
    "    <li>Foreign gross was higher than domestic gross in all years except for 2019 to 2020. </li>\n",
    "    <li>There has been a sharp decrease in both foreign and domestic gross earned by movies since 2018, with the lowest year for both being 2020.</br>\n",
    "        This makes sense since streaming platforms started gaining a lot of hype in 2018, leading to lot of people preferring to stream movies on platforms such as Netflix hence the decline in box office revenues.</li>\n",
    "     <li>Movies made zero box office revenue in 2020. </br>\n",
    "        This is because COVID started in 2020, which lead to the closure of movie theaters in a lot of countries hence there was no box office revenue for movies that year.\n",
    "     </li>\n",
    " </ul>"
   ]
  },
  {
   "cell_type": "markdown",
   "metadata": {},
   "source": [
    " ### **2. The preferred movie genres _Vs_ The most profitable movie genres**"
   ]
  },
  {
   "cell_type": "code",
   "execution_count": 60,
   "metadata": {},
   "outputs": [
    {
     "data": {
      "text/plain": [
       "Drama          1815\n",
       "Comedy          945\n",
       "Action          650\n",
       "Romance         466\n",
       "Thriller        450\n",
       "Adventure       444\n",
       "Crime           379\n",
       "Documentary     305\n",
       "Biography       303\n",
       "Horror          246\n",
       "Name: genres, dtype: int64"
      ]
     },
     "execution_count": 60,
     "metadata": {},
     "output_type": "execute_result"
    }
   ],
   "source": [
    "# The top 10 most preferred movie genres\n",
    "\n",
    "top_10_preferred_genres= movie_gross_title_basics['genres'].value_counts()[:10]\n",
    "top_10_preferred_genres"
   ]
  },
  {
   "cell_type": "code",
   "execution_count": 61,
   "metadata": {},
   "outputs": [
    {
     "data": {
      "text/plain": [
       "genres\n",
       "Adventure      1.191599e+11\n",
       "Action         1.071035e+11\n",
       "Comedy         7.700830e+10\n",
       "Drama          6.917656e+10\n",
       "Animation      3.818870e+10\n",
       "Fantasy        2.632332e+10\n",
       "Crime          1.816924e+10\n",
       "Biography      1.401651e+10\n",
       "Family         1.309904e+10\n",
       "Documentary    1.007256e+10\n",
       "Name: total_gross, dtype: float64"
      ]
     },
     "execution_count": 61,
     "metadata": {},
     "output_type": "execute_result"
    }
   ],
   "source": [
    "# The top 10 most profitable movie genres\n",
    "\n",
    "top_10_profitable_genres = movie_gross_title_basics.groupby('genres')['total_gross'].sum()[:10]\n",
    "top_10_profitable_genres = top_10_profitable_genres.sort_values(ascending=False)\n",
    "top_10_profitable_genres"
   ]
  },
  {
   "cell_type": "code",
   "execution_count": 62,
   "metadata": {},
   "outputs": [
    {
     "name": "stdout",
     "output_type": "stream",
     "text": [
      "Romance\n",
      "Thriller\n",
      "Horror\n"
     ]
    }
   ],
   "source": [
    "# For loop checking for genres in the top_10_preferred_genres that are not in the top_10_profitable_genres\n",
    "\n",
    "for genre in top_10_preferred_genres.index:\n",
    "    if genre not in top_10_profitable_genres.index:\n",
    "        print(genre)"
   ]
  },
  {
   "cell_type": "code",
   "execution_count": 63,
   "metadata": {},
   "outputs": [
    {
     "name": "stdout",
     "output_type": "stream",
     "text": [
      "Animation\n",
      "Fantasy\n",
      "Family\n"
     ]
    }
   ],
   "source": [
    "# For loop checking for genres in the  top_10_profitable_genres that are not in the top_10_preferred_genres\n",
    "\n",
    "for genre in top_10_profitable_genres.index:\n",
    "    if genre not in top_10_preferred_genres.index:\n",
    "        print(genre)"
   ]
  },
  {
   "cell_type": "code",
   "execution_count": 64,
   "metadata": {},
   "outputs": [
    {
     "data": {
      "image/png": "[encoded data removed]",
      "text/plain": [
       "<Figure size 864x432 with 2 Axes>"
      ]
     },
     "metadata": {},
     "output_type": "display_data"
    }
   ],
   "source": [
    "fig, (ax1, ax2) = plt.subplots(figsize=(12,6), ncols=2)\n",
    "sns.barplot(x=top_10_preferred_genres.values, y=top_10_preferred_genres.index, orient='h', ax=ax1).set(\n",
    "                    xlabel = \"Number of movies\",\n",
    "                    ylabel = \"Movie Genres\",\n",
    "                    title = \"Total 10 most preferred movies genres\"\n",
    ")\n",
    "sns.barplot(x=top_10_profitable_genres.values, y=top_10_profitable_genres.index, orient='h', ax=ax2).set(\n",
    "                    xlabel = \"Total Revenue Earned\",\n",
    "                    ylabel = \"Movie Genres\",\n",
    "                    title = \"Total 10 most profitable movies genres\"\n",
    ");\n",
    "fig.set_tight_layout(True)\n",
    "fig.savefig('images/preferred_vs_profitable')"
   ]
  },
  {
   "cell_type": "markdown",
   "metadata": {},
   "source": [
    "**_Observations_**:\n",
    "<ul> \n",
    "       <li>Drama is the most preferred movie genre. </li>\n",
    "       <li>Romance, Thriller, Horror which are in the top 10 most preferred movies is not in the top 10 most profitable movies </li>\n",
    "      <li>Adventure is the most profitable movie genre. </li>\n",
    "      <li> Animation, Fantasy and Family are in the top 10 most profitable movies but are not in the top 10 most preferred genres</li>\n",
    "            \n",
    " </ul>\n",
    "     \n",
    "   "
   ]
  },
  {
   "cell_type": "markdown",
   "metadata": {},
   "source": [
    " ### **3. The top 5 highest rated genres**"
   ]
  },
  {
   "cell_type": "code",
   "execution_count": 65,
   "metadata": {},
   "outputs": [
    {
     "data": {
      "text/plain": [
       "genres\n",
       "Documentary    4982\n",
       "Drama          3140\n",
       "Comedy         1330\n",
       "Biography       848\n",
       "History         595\n",
       "Name: averagerating, dtype: int64"
      ]
     },
     "execution_count": 65,
     "metadata": {},
     "output_type": "execute_result"
    }
   ],
   "source": [
    "rating_10 = title_basics_ratings[(title_basics_ratings['averagerating'] >= 8) & (title_basics_ratings['averagerating'] <= 10)]\n",
    "\n",
    "top_5_highest_rated_genres = rating_10.groupby('genres')['averagerating'].count()\n",
    "top_5_highest_rated_genres = top_5_highest_rated_genres.sort_values(ascending=False)[:5]\n",
    "top_5_highest_rated_genres\n"
   ]
  },
  {
   "cell_type": "code",
   "execution_count": 66,
   "metadata": {},
   "outputs": [
    {
     "name": "stdout",
     "output_type": "stream",
     "text": [
      "Movies that are highly rated and still profitable are: ['Documentary', 'Drama', 'Comedy', 'Biography']\n"
     ]
    }
   ],
   "source": [
    "#For loop checking if the genres in the top_5_highest_rated_genres are also in the top_10_profitable_genres\n",
    "\n",
    "genres = []\n",
    "for genre in top_5_highest_rated_genres.index:\n",
    "    if genre in top_10_profitable_genres.index:\n",
    "        genres.append(genre)\n",
    "print(f'Movies that are highly rated and still profitable are: {genres}')"
   ]
  },
  {
   "cell_type": "code",
   "execution_count": 67,
   "metadata": {},
   "outputs": [
    {
     "name": "stdout",
     "output_type": "stream",
     "text": [
      "Movies that are both highly rated and preferable are: ['Documentary', 'Drama', 'Comedy', 'Biography']\n"
     ]
    }
   ],
   "source": [
    "#For loop checking if the genres in the top_5_highest_rated_genres are also in the top_10_preferred_genres\n",
    "genres = []\n",
    "for genre in top_5_highest_rated_genres.index:\n",
    "    if genre in top_10_preferred_genres.index:\n",
    "        genres.append(genre)\n",
    "print(f'Movies that are both highly rated and preferable are: {genres}')"
   ]
  },
  {
   "cell_type": "code",
   "execution_count": 68,
   "metadata": {},
   "outputs": [
    {
     "data": {
      "image/png": "[encoded data removed]",
      "text/plain": [
       "<Figure size 864x432 with 1 Axes>"
      ]
     },
     "metadata": {},
     "output_type": "display_data"
    }
   ],
   "source": [
    "fig,ax =plt.subplots(figsize=(12,6))\n",
    "sns.barplot(y=top_5_highest_rated_genres.values, x=top_5_highest_rated_genres.index, orient='v', ax=ax).set(\n",
    "                    xlabel = \"Movie Genres\",\n",
    "                    ylabel = \"Number of movies\",\n",
    "                    title = \"Total 5 highest rated genres\"\n",
    ");\n",
    "fig.savefig('images/highest_rated_genres')"
   ]
  },
  {
   "cell_type": "markdown",
   "metadata": {},
   "source": [
    "**_Observations_**:\n",
    "<ul type='square'> \n",
    "       <li>Documentary is the highest rated movie genre. </li>\n",
    "       <li>The first four genres, that is Documentary, drama , comedy and biography are also in the top ten most preferred/profitable movies </li>\n",
    "       <li>History is not in the top ten most preferred/profitable movies </li>          \n",
    " </ul>"
   ]
  },
  {
   "cell_type": "markdown",
   "metadata": {},
   "source": [
    " ### **4. Correlation between Average rating and total gross**"
   ]
  },
  {
   "cell_type": "code",
   "execution_count": 69,
   "metadata": {},
   "outputs": [
    {
     "data": {
      "image/png": "[encoded data removed]",
      "text/plain": [
       "<Figure size 864x432 with 1 Axes>"
      ]
     },
     "metadata": {},
     "output_type": "display_data"
    }
   ],
   "source": [
    "fig,ax =plt.subplots(figsize=(12,6))\n",
    "sns.scatterplot(x=title_basics_ratings['averagerating'], y=movie_gross_title_basics['total_gross'], ax=ax).set(\n",
    "                    xlabel = \"Average Rating\",\n",
    "                    ylabel = \"Total Gross\",\n",
    "                    title = \"Average rating Vs Total gross\"\n",
    ");\n",
    "fig.savefig('images/ rating_gross')"
   ]
  },
  {
   "cell_type": "markdown",
   "metadata": {},
   "source": [
    "**_Observations_**:\n",
    "<ul type='square'> \n",
    "       <li>There is no correlation between average rating and the total revenue earned </li>\n",
    "       <li> Majority of movies make a total gross of less than 400 million dollars  </li>\n",
    "        <li> Majority of movies have an average rating higher than 4  </li     \n",
    " </ul>"
   ]
  },
  {
   "cell_type": "markdown",
   "metadata": {},
   "source": [
    " ### **5. Top 5 studios based on total revenue earned**"
   ]
  },
  {
   "cell_type": "code",
   "execution_count": 70,
   "metadata": {},
   "outputs": [
    {
     "data": {
      "text/plain": [
       "studio\n",
       "BV      1.149262e+11\n",
       "Fox     8.375431e+10\n",
       "Uni.    8.190137e+10\n",
       "WB      7.091928e+10\n",
       "Sony    5.060107e+10\n",
       "Name: total_gross, dtype: float64"
      ]
     },
     "execution_count": 70,
     "metadata": {},
     "output_type": "execute_result"
    }
   ],
   "source": [
    "studios = movie_gross_title_basics.groupby('studio')['total_gross'].sum()\n",
    "top_5_studios = studios.sort_values(ascending=False)[:5]\n",
    "top_5_studios"
   ]
  },
  {
   "cell_type": "code",
   "execution_count": 71,
   "metadata": {},
   "outputs": [
    {
     "data": {
      "image/png": "[encoded data removed]",
      "text/plain": [
       "<Figure size 864x432 with 1 Axes>"
      ]
     },
     "metadata": {},
     "output_type": "display_data"
    }
   ],
   "source": [
    "fig,ax =plt.subplots(figsize=(12,6))\n",
    "sns.barplot(x=top_5_studios.index, y=top_5_studios.values, palette=\"ch:.25\").set(\n",
    "                    ylabel = \"Total Gross earned\",\n",
    "                    title = \"Top 5 studios\"\n",
    ");\n",
    "fig.savefig('images/top_5_studios')"
   ]
  },
  {
   "cell_type": "markdown",
   "metadata": {},
   "source": [
    "**_Observations_**:\n",
    "<ul type='square'> \n",
    "       <li>BV studio is the highest earning studio </li>\n",
    "       <li> Fox and Uni.Studio have approximately the same gross earnings</li>\n",
    "        <li> All 5 studios have a gross total greater than 400 million dollars </li     \n",
    " </ul>"
   ]
  },
  {
   "cell_type": "markdown",
   "metadata": {},
   "source": [
    "## **Conclusion**"
   ]
  },
  {
   "cell_type": "markdown",
   "metadata": {},
   "source": [
    "* There has been a sharp decrease in box office gross earnings since 2018. This can be attributed to the increase preference for movie streaming in platforms such as Netflix. \n",
    "* Adventure, action, comedy and drama are genres that are highly preferred by audiences and also have high profitability. \n",
    "* BV Studio has the highest total gross earnings. "
   ]
  },
  {
   "cell_type": "markdown",
   "metadata": {},
   "source": [
    "## **Recommendations**\n",
    "<ol type='i'> \n",
    "<li> Create a streaming platform for their movies </li>\n",
    "<li> Produce movies that have a combination of adventure, action, comedy and drama </li>\n",
    "<li> Benchmark with top earning movie studios such as BV studios</li>\n",
    "\n",
    "</ol>"
   ]
  }
 ],
 "metadata": {
  "kernelspec": {
   "display_name": "Python 3",
   "language": "python",
   "name": "python3"
  },
  "language_info": {
   "codemirror_mode": {
    "name": "ipython",
    "version": 3
   },
   "file_extension": ".py",
   "mimetype": "text/x-python",
   "name": "python",
   "nbconvert_exporter": "python",
   "pygments_lexer": "ipython3",
   "version": "3.8.5"
  },
  "vscode": {
   "interpreter": {
    "hash": "15e1ea0e9ae73a04f4db62dd1e96b3b16ca57ecdaaf21916cbbe9da1fa870ff9"
   }
  }
 },
 "nbformat": 4,
 "nbformat_minor": 2
}
